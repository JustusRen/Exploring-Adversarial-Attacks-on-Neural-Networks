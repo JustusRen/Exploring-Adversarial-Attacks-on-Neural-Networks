{
 "cells": [
  {
   "cell_type": "code",
   "execution_count": 67,
   "id": "206b51f2",
   "metadata": {},
   "outputs": [],
   "source": [
    "import os"
   ]
  },
  {
   "cell_type": "code",
   "execution_count": 68,
   "id": "29c5c279",
   "metadata": {},
   "outputs": [],
   "source": [
    "def count_layers(layers):\n",
    "    counts = {layer:layers.count(layer) for layer in layers}\n",
    "\n",
    "    print('block1conv1: '+ str(counts.get('block1conv1')))\n",
    "    print('block1conv2: '+ str(counts.get('block1conv2')))\n",
    "    print('block2conv1: '+ str(counts.get('block2conv1')))\n",
    "    print('block2conv2: '+ str(counts.get('block2conv2')))\n",
    "    print('block3conv1: '+ str(counts.get('block3conv1')))\n",
    "    print('block3conv2: '+ str(counts.get('block3conv2')))\n",
    "    print('block3conv3: '+ str(counts.get('block3conv3')))\n",
    "    print('block4conv1: '+ str(counts.get('block4conv1')))\n",
    "    print('block4conv2: '+ str(counts.get('block4conv2')))\n",
    "    print('block4conv3: '+ str(counts.get('block4conv3')))\n",
    "    print('block5conv1: '+ str(counts.get('block5conv1')))\n",
    "    print('block5conv2: '+ str(counts.get('block5conv2')))\n",
    "    print('block5conv3: '+ str(counts.get('block5conv3')))"
   ]
  },
  {
   "cell_type": "markdown",
   "id": "21f06a00",
   "metadata": {},
   "source": [
    "### Get most vulnerable layer (normal)"
   ]
  },
  {
   "cell_type": "code",
   "execution_count": 69,
   "id": "7782fccc",
   "metadata": {},
   "outputs": [
    {
     "name": "stdout",
     "output_type": "stream",
     "text": [
      "block1conv1: None\n",
      "block1conv2: None\n",
      "block2conv1: None\n",
      "block2conv2: None\n",
      "block3conv1: None\n",
      "block3conv2: None\n",
      "block3conv3: None\n",
      "block4conv1: 1\n",
      "block4conv2: None\n",
      "block4conv3: 1\n",
      "block5conv1: 3\n",
      "block5conv2: 1\n",
      "block5conv3: None\n"
     ]
    }
   ],
   "source": [
    "files = os.listdir('ImageNet/Lowest_Highest_Sim/normal/low/')\n",
    "layers = []\n",
    "for file in files:\n",
    "    file_split = file.split('_')\n",
    "    layer = file_split[0]\n",
    "    layers.append(layer)\n",
    "count_layers(layers)"
   ]
  },
  {
   "cell_type": "markdown",
   "id": "4df5bd62",
   "metadata": {},
   "source": [
    "### Get most stable layer (normal)"
   ]
  },
  {
   "cell_type": "code",
   "execution_count": 70,
   "id": "c7b6e853",
   "metadata": {},
   "outputs": [
    {
     "name": "stdout",
     "output_type": "stream",
     "text": [
      "block1conv1: 3\n",
      "block1conv2: 3\n",
      "block2conv1: None\n",
      "block2conv2: None\n",
      "block3conv1: None\n",
      "block3conv2: None\n",
      "block3conv3: None\n",
      "block4conv1: None\n",
      "block4conv2: None\n",
      "block4conv3: None\n",
      "block5conv1: None\n",
      "block5conv2: None\n",
      "block5conv3: None\n"
     ]
    }
   ],
   "source": [
    "files = os.listdir('ImageNet/Lowest_Highest_Sim/normal/high/')\n",
    "layers = []\n",
    "for file in files:\n",
    "    file_split = file.split('_')\n",
    "    layer = file_split[0]\n",
    "    layers.append(layer)\n",
    "count_layers(layers)"
   ]
  },
  {
   "cell_type": "markdown",
   "id": "e96bf638",
   "metadata": {},
   "source": [
    "### Get most vulnerable layer (random)"
   ]
  },
  {
   "cell_type": "code",
   "execution_count": 71,
   "id": "3ed0edf0",
   "metadata": {},
   "outputs": [
    {
     "name": "stdout",
     "output_type": "stream",
     "text": [
      "block1conv1: None\n",
      "block1conv2: None\n",
      "block2conv1: None\n",
      "block2conv2: None\n",
      "block3conv1: None\n",
      "block3conv2: None\n",
      "block3conv3: None\n",
      "block4conv1: 1\n",
      "block4conv2: None\n",
      "block4conv3: None\n",
      "block5conv1: 1\n",
      "block5conv2: 2\n",
      "block5conv3: None\n"
     ]
    }
   ],
   "source": [
    "files = os.listdir('ImageNet/Lowest_Highest_Sim/random/low/')\n",
    "layers = []\n",
    "for file in files:\n",
    "    file_split = file.split('_')\n",
    "    layer = file_split[0]\n",
    "    layers.append(layer)\n",
    "count_layers(layers)"
   ]
  },
  {
   "cell_type": "markdown",
   "id": "1cab8f0e",
   "metadata": {},
   "source": [
    "### Get most stable layer (random)"
   ]
  },
  {
   "cell_type": "code",
   "execution_count": 72,
   "id": "7323a084",
   "metadata": {},
   "outputs": [
    {
     "name": "stdout",
     "output_type": "stream",
     "text": [
      "block1conv1: 2\n",
      "block1conv2: 2\n",
      "block2conv1: None\n",
      "block2conv2: None\n",
      "block3conv1: None\n",
      "block3conv2: None\n",
      "block3conv3: None\n",
      "block4conv1: None\n",
      "block4conv2: None\n",
      "block4conv3: None\n",
      "block5conv1: None\n",
      "block5conv2: None\n",
      "block5conv3: None\n"
     ]
    }
   ],
   "source": [
    "files = os.listdir('ImageNet/Lowest_Highest_Sim/random/high/')\n",
    "layers = []\n",
    "for file in files:\n",
    "    file_split = file.split('_')\n",
    "    layer = file_split[0]\n",
    "    layers.append(layer)\n",
    "count_layers(layers)"
   ]
  }
 ],
 "metadata": {
  "kernelspec": {
   "display_name": "dlfuzz_env",
   "language": "python",
   "name": "dlfuzz_env"
  },
  "language_info": {
   "codemirror_mode": {
    "name": "ipython",
    "version": 3
   },
   "file_extension": ".py",
   "mimetype": "text/x-python",
   "name": "python",
   "nbconvert_exporter": "python",
   "pygments_lexer": "ipython3",
   "version": "3.9.12"
  }
 },
 "nbformat": 4,
 "nbformat_minor": 5
}
