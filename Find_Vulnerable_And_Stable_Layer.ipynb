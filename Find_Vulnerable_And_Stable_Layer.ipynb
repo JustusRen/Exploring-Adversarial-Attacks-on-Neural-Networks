{
 "cells": [
  {
   "cell_type": "code",
   "execution_count": null,
   "id": "206b51f2",
   "metadata": {},
   "outputs": [],
   "source": [
    "import os\n",
    "import matplotlib.pyplot as plt\n"
   ]
  },
  {
   "cell_type": "code",
   "execution_count": null,
   "id": "29c5c279",
   "metadata": {},
   "outputs": [],
   "source": [
    "def count_layers(layers):\n",
    "    counts = {layer:layers.count(layer) for layer in layers}\n",
    "\n",
    "    print('block1conv1: '+ str(counts.get('block1conv1')))\n",
    "    print('block1conv2: '+ str(counts.get('block1conv2')))\n",
    "    print('block2conv1: '+ str(counts.get('block2conv1')))\n",
    "    print('block2conv2: '+ str(counts.get('block2conv2')))\n",
    "    print('block3conv1: '+ str(counts.get('block3conv1')))\n",
    "    print('block3conv2: '+ str(counts.get('block3conv2')))\n",
    "    print('block3conv3: '+ str(counts.get('block3conv3')))\n",
    "    print('block4conv1: '+ str(counts.get('block4conv1')))\n",
    "    print('block4conv2: '+ str(counts.get('block4conv2')))\n",
    "    print('block4conv3: '+ str(counts.get('block4conv3')))\n",
    "    print('block5conv1: '+ str(counts.get('block5conv1')))\n",
    "    print('block5conv2: '+ str(counts.get('block5conv2')))\n",
    "    print('block5conv3: '+ str(counts.get('block5conv3')))\n",
    "    return counts"
   ]
  },
  {
   "cell_type": "markdown",
   "id": "21f06a00",
   "metadata": {},
   "source": [
    "### Get most vulnerable layer (normal)"
   ]
  },
  {
   "cell_type": "code",
   "execution_count": null,
   "id": "7782fccc",
   "metadata": {},
   "outputs": [],
   "source": [
    "files = os.listdir('ImageNet/Lowest_Highest_Sim/normal/low/')\n",
    "layers = []\n",
    "for file in files:\n",
    "    file_split = file.split('_')\n",
    "    layer = file_split[0]\n",
    "    layers.append(layer)\n",
    "counts = count_layers(layers)\n",
    "plt.title(\"Layer with lowest similarity\")\n",
    "plt.bar(counts.keys(), counts.values())"
   ]
  },
  {
   "cell_type": "markdown",
   "id": "4df5bd62",
   "metadata": {},
   "source": [
    "### Get most stable layer (normal)"
   ]
  },
  {
   "cell_type": "code",
   "execution_count": null,
   "id": "c7b6e853",
   "metadata": {},
   "outputs": [],
   "source": [
    "files = os.listdir('ImageNet/Lowest_Highest_Sim/normal/high/')\n",
    "layers = []\n",
    "for file in files:\n",
    "    file_split = file.split('_')\n",
    "    layer = file_split[0]\n",
    "    layers.append(layer)\n",
    "counts = count_layers(layers)\n",
    "plt.title(\"Layer with highest similarity\")\n",
    "plt.bar(counts.keys(), counts.values())"
   ]
  },
  {
   "cell_type": "markdown",
   "id": "e96bf638",
   "metadata": {},
   "source": [
    "### Get most vulnerable layer (random)"
   ]
  },
  {
   "cell_type": "code",
   "execution_count": null,
   "id": "3ed0edf0",
   "metadata": {},
   "outputs": [],
   "source": [
    "files = os.listdir('ImageNet/Lowest_Highest_Sim/random/low/')\n",
    "layers = []\n",
    "for file in files:\n",
    "    file_split = file.split('_')\n",
    "    layer = file_split[0]\n",
    "    layers.append(layer)\n",
    "counts = count_layers(layers)\n",
    "plt.title(\"Layer with lowest similarity (random noise)\")\n",
    "plt.bar(counts.keys(), counts.values())"
   ]
  },
  {
   "cell_type": "markdown",
   "id": "1cab8f0e",
   "metadata": {},
   "source": [
    "### Get most stable layer (random)"
   ]
  },
  {
   "cell_type": "code",
   "execution_count": null,
   "id": "7323a084",
   "metadata": {},
   "outputs": [],
   "source": [
    "files = os.listdir('ImageNet/Lowest_Highest_Sim/random/high/')\n",
    "layers = []\n",
    "for file in files:\n",
    "    file_split = file.split('_')\n",
    "    layer = file_split[0]\n",
    "    layers.append(layer)\n",
    "counts = count_layers(layers)\n",
    "plt.title(\"Layer with highest similarity (random noise)\")\n",
    "plt.bar(counts.keys(), counts.values())"
   ]
  }
 ],
 "metadata": {
  "kernelspec": {
   "display_name": "dlfuzz_env",
   "language": "python",
   "name": "dlfuzz_env"
  },
  "language_info": {
   "codemirror_mode": {
    "name": "ipython",
    "version": 3
   },
   "file_extension": ".py",
   "mimetype": "text/x-python",
   "name": "python",
   "nbconvert_exporter": "python",
   "pygments_lexer": "ipython3",
   "version": "3.9.12"
  }
 },
 "nbformat": 4,
 "nbformat_minor": 5
}
