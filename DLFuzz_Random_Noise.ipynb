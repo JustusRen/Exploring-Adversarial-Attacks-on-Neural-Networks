{
 "cells": [
  {
   "cell_type": "code",
   "execution_count": null,
   "metadata": {
    "id": "n29BmTnLJwG6"
   },
   "outputs": [],
   "source": [
    "import random\n",
    "from collections import defaultdict\n",
    "import numpy as np\n",
    "from datetime import datetime\n",
    "import sys\n",
    "import os\n",
    "import time\n",
    "import shutil\n",
    "\n",
    "import imageio\n",
    "\n",
    "from keras import backend as K\n",
    "from keras.applications.vgg16 import preprocess_input, decode_predictions\n",
    "from keras.models import Model\n",
    "from keras.preprocessing import image\n",
    "\n",
    "import matplotlib.pyplot as plt\n",
    "plt.style.use(['science', 'ieee', 'no-latex'])\n"
   ]
  },
  {
   "cell_type": "code",
   "execution_count": 40,
   "metadata": {
    "colab": {
     "base_uri": "https://localhost:8080/"
    },
    "executionInfo": {
     "elapsed": 10650,
     "status": "ok",
     "timestamp": 1652879183578,
     "user": {
      "displayName": "Justus Renkhoff",
      "userId": "12982392699296254637"
     },
     "user_tz": -120
    },
    "id": "Td2WGoGiKwsh",
    "outputId": "7a53c970-262e-457d-91cc-d7d0eda83937"
   },
   "outputs": [],
   "source": [
    "from __future__ import print_function\n",
    "\n",
    "from keras import backend as K\n",
    "from keras.applications.vgg16 import VGG16\n",
    "from keras.applications.vgg19 import VGG19\n",
    "#!pip install keras-resnet\n",
    "from keras_resnet.models import ResNet50\n",
    "from keras.layers import Input\n",
    "# from scipy.misc import imsave\n",
    "\n",
    "import tensorflow as tf\n",
    "tf.compat.v1.disable_eager_execution()"
   ]
  },
  {
   "cell_type": "code",
   "execution_count": 41,
   "metadata": {
    "id": "PUxzcWrtJyVW"
   },
   "outputs": [],
   "source": [
    "model_layer_weights_top_k = []"
   ]
  },
  {
   "cell_type": "code",
   "execution_count": 42,
   "metadata": {
    "id": "58-VBdFbJ011"
   },
   "outputs": [],
   "source": [
    "def preprocess_image(img_path):\n",
    "    img = tf.keras.preprocessing.image.load_img(img_path, target_size=(224, 224))\n",
    "    input_img_data = tf.keras.preprocessing.image.img_to_array(img)\n",
    "    input_img_data = np.expand_dims(input_img_data, axis=0)\n",
    "    input_img_data = preprocess_input(input_img_data)  # final input shape = (1,224,224,3)\n",
    "    return input_img_data"
   ]
  },
  {
   "cell_type": "code",
   "execution_count": 43,
   "metadata": {
    "id": "hvqWmq6IJ2QI"
   },
   "outputs": [],
   "source": [
    "def deprocess_image(x):\n",
    "    x = x.reshape((224, 224, 3))\n",
    "    # Remove zero-center by mean pixel\n",
    "    x[:, :, 0] += 103.939\n",
    "    x[:, :, 1] += 116.779\n",
    "    x[:, :, 2] += 123.68\n",
    "    # 'BGR'->'RGB'\n",
    "    x = x[:, :, ::-1]\n",
    "    x = np.clip(x, 0, 255).astype('uint8')\n",
    "    return x"
   ]
  },
  {
   "cell_type": "markdown",
   "metadata": {
    "id": "Rx7ePeUYDAa9"
   },
   "source": []
  },
  {
   "cell_type": "code",
   "execution_count": 44,
   "metadata": {
    "id": "gcc-fyXfJ4_3"
   },
   "outputs": [],
   "source": [
    "\n",
    "def decode_label(pred):\n",
    "    return decode_predictions(pred)[0][0][1]"
   ]
  },
  {
   "cell_type": "code",
   "execution_count": 45,
   "metadata": {
    "id": "NOSgKjJ4J6Rj"
   },
   "outputs": [],
   "source": [
    "def normalize(x):\n",
    "    # utility function to normalize a tensor by its L2 norm\n",
    "    return x / (K.sqrt(K.mean(K.square(x))) + 1e-5)\n"
   ]
  },
  {
   "cell_type": "code",
   "execution_count": 46,
   "metadata": {
    "id": "csz3dYzYJ7Wk"
   },
   "outputs": [],
   "source": [
    "def constraint_occl(gradients, start_point, rect_shape):\n",
    "    new_grads = np.zeros_like(gradients)\n",
    "    new_grads[:, start_point[0]:start_point[0] + rect_shape[0],\n",
    "    start_point[1]:start_point[1] + rect_shape[1]] = gradients[:, start_point[0]:start_point[0] + rect_shape[0],\n",
    "                                                     start_point[1]:start_point[1] + rect_shape[1]]\n",
    "    return new_grads"
   ]
  },
  {
   "cell_type": "code",
   "execution_count": 47,
   "metadata": {
    "id": "u2EwvhRyJ8hQ"
   },
   "outputs": [],
   "source": [
    "def constraint_light(gradients):\n",
    "    new_grads = np.ones_like(gradients)\n",
    "    grad_mean = 1e4 * np.mean(gradients)\n",
    "    return grad_mean * new_grads"
   ]
  },
  {
   "cell_type": "code",
   "execution_count": 48,
   "metadata": {
    "id": "DNPa6IRpJ9zu"
   },
   "outputs": [],
   "source": [
    "\n",
    "def constraint_black(gradients, rect_shape=(10, 10)):\n",
    "    start_point = (\n",
    "        random.randint(0, gradients.shape[1] - rect_shape[0]), random.randint(0, gradients.shape[2] - rect_shape[1]))\n",
    "    new_grads = np.zeros_like(gradients)\n",
    "    patch = gradients[:, start_point[0]:start_point[0] + rect_shape[0], start_point[1]:start_point[1] + rect_shape[1]]\n",
    "    if np.mean(patch) < 0:\n",
    "        new_grads[:, start_point[0]:start_point[0] + rect_shape[0],\n",
    "        start_point[1]:start_point[1] + rect_shape[1]] = -np.ones_like(patch)\n",
    "    return new_grads"
   ]
  },
  {
   "cell_type": "code",
   "execution_count": 49,
   "metadata": {
    "id": "bk9Wkm5YJ_PZ"
   },
   "outputs": [],
   "source": [
    "def init_coverage_tables(model1, model2, model3):\n",
    "    model_layer_dict1 = defaultdict(bool)\n",
    "    model_layer_dict2 = defaultdict(bool)\n",
    "    model_layer_dict3 = defaultdict(bool)\n",
    "    init_dict(model1, model_layer_dict1)\n",
    "    init_dict(model2, model_layer_dict2)\n",
    "    init_dict(model3, model_layer_dict3)\n",
    "    return model_layer_dict1, model_layer_dict2, model_layer_dict3"
   ]
  },
  {
   "cell_type": "code",
   "execution_count": 50,
   "metadata": {
    "id": "YG1l2XdxKBXO"
   },
   "outputs": [],
   "source": [
    "def init_coverage_tables(model1):\n",
    "    model_layer_dict1 = defaultdict(bool)\n",
    "    init_dict(model1, model_layer_dict1)\n",
    "    return model_layer_dict1"
   ]
  },
  {
   "cell_type": "code",
   "execution_count": 51,
   "metadata": {
    "id": "_ec37hxwKCVU"
   },
   "outputs": [],
   "source": [
    "def init_dict(model, model_layer_dict):\n",
    "    for layer in model.layers:\n",
    "        if 'flatten' in layer.name or 'input' in layer.name:\n",
    "            continue\n",
    "        for index in range(layer.output_shape[-1]):\n",
    "            model_layer_dict[(layer.name, index)] = False"
   ]
  },
  {
   "cell_type": "code",
   "execution_count": 52,
   "metadata": {
    "id": "9W3FLX1VKDSO"
   },
   "outputs": [],
   "source": [
    "def init_coverage_times(model):\n",
    "    model_layer_times = defaultdict(int)\n",
    "    init_times(model,model_layer_times)\n",
    "    return model_layer_times"
   ]
  },
  {
   "cell_type": "code",
   "execution_count": 53,
   "metadata": {
    "id": "Gbm3hVsIKENJ"
   },
   "outputs": [],
   "source": [
    "def init_coverage_value(model):\n",
    "    model_layer_value = defaultdict(float)\n",
    "    init_times(model, model_layer_value)\n",
    "    return model_layer_value"
   ]
  },
  {
   "cell_type": "code",
   "execution_count": 54,
   "metadata": {
    "id": "ciwjFwtsKFE3"
   },
   "outputs": [],
   "source": [
    "def init_times(model,model_layer_times):\n",
    "    for layer in model.layers:\n",
    "        if 'flatten' in layer.name or 'input' in layer.name:\n",
    "            continue\n",
    "        for index in range(layer.output_shape[-1]):\n",
    "            model_layer_times[(layer.name, index)] = 0"
   ]
  },
  {
   "cell_type": "code",
   "execution_count": 55,
   "metadata": {
    "id": "fuls9G0-KF_H"
   },
   "outputs": [],
   "source": [
    "def neuron_to_cover(model_layer_dict):\n",
    "    not_covered = [(layer_name, index) for (layer_name, index), v in model_layer_dict.items() if not v]\n",
    "    if not_covered:\n",
    "        layer_name, index = random.choice(not_covered)\n",
    "    else:\n",
    "        layer_name, index = random.choice(model_layer_dict.keys())\n",
    "    return layer_name, index"
   ]
  },
  {
   "cell_type": "code",
   "execution_count": 56,
   "metadata": {
    "id": "uEPoWmEcKHlp"
   },
   "outputs": [],
   "source": [
    "def neuron_to_cover(not_covered,model_layer_dict):\n",
    "    if not_covered:\n",
    "        layer_name, index = random.choice(not_covered)\n",
    "        not_covered.remove((layer_name, index))\n",
    "    else:\n",
    "        layer_name, index = random.choice(model_layer_dict.keys())\n",
    "    return layer_name, index"
   ]
  },
  {
   "cell_type": "code",
   "execution_count": 57,
   "metadata": {
    "id": "fgLgIsJpKIXf"
   },
   "outputs": [],
   "source": [
    "def random_strategy(model,model_layer_times, neuron_to_cover_num):\n",
    "    loss_neuron = []\n",
    "    not_covered = [(layer_name, index) for (layer_name, index), v in model_layer_times.items() if v == 0]\n",
    "    for _ in range(neuron_to_cover_num):\n",
    "        layer_name, index = neuron_to_cover(not_covered, model_layer_times)\n",
    "        loss00_neuron = K.mean(model.get_layer(layer_name).output[..., index])\n",
    "        loss_neuron.append(loss00_neuron)\n",
    "    return loss_neuron"
   ]
  },
  {
   "cell_type": "code",
   "execution_count": 58,
   "metadata": {
    "id": "Fqp6rISOKJso"
   },
   "outputs": [],
   "source": [
    "def neuron_select_high_weight(model, layer_names, top_k):\n",
    "    global model_layer_weights_top_k\n",
    "    model_layer_weights_dict = {}\n",
    "    for layer_name in layer_names:\n",
    "        weights = model.get_layer(layer_name).get_weights()\n",
    "        if len(weights) <= 0:\n",
    "            continue\n",
    "        w = np.asarray(weights[0])  # 0 is weights, 1 is biases\n",
    "        w = w.reshape(w.shape)\n",
    "        for index in range(model.get_layer(layer_name).output_shape[-1]):\n",
    "            index_w = np.mean(w[..., index])\n",
    "            if index_w <= 0:\n",
    "                continue\n",
    "            model_layer_weights_dict[(layer_name,index)]=index_w\n",
    "    # notice!\n",
    "    model_layer_weights_list = sorted(model_layer_weights_dict.items(), key=lambda x: x[1], reverse=True)\n",
    "\n",
    "    k = 0\n",
    "    for (layer_name, index),weight in model_layer_weights_list:\n",
    "        if k >= top_k:\n",
    "            break\n",
    "        model_layer_weights_top_k.append([layer_name,index])\n",
    "        k += 1"
   ]
  },
  {
   "cell_type": "code",
   "execution_count": 59,
   "metadata": {
    "id": "15qJ8DcaKMKu"
   },
   "outputs": [],
   "source": [
    "def neuron_selection(model, model_layer_times, model_layer_value, neuron_select_strategy, neuron_to_cover_num,threshold):\n",
    "    if neuron_select_strategy == 'None':\n",
    "        return random_strategy(model, model_layer_times, neuron_to_cover_num)\n",
    "\n",
    "    num_strategy = len([x for x in neuron_select_strategy if x in ['0', '1', '2', '3']])\n",
    "\n",
    "    neuron_to_cover_num_each = neuron_to_cover_num / num_strategy\n",
    "\n",
    "    loss_neuron = []\n",
    "    # initialization for strategies\n",
    "    if ('0' in list(neuron_select_strategy)) or ('1' in list(neuron_select_strategy)):\n",
    "        i = 0\n",
    "        neurons_covered_times = []\n",
    "        neurons_key_pos = {}\n",
    "        for (layer_name, index), time in model_layer_times.items():\n",
    "            neurons_covered_times.append(time)\n",
    "            neurons_key_pos[i] = (layer_name, index)\n",
    "            i += 1\n",
    "        neurons_covered_times = np.asarray(neurons_covered_times)\n",
    "        times_total = sum(neurons_covered_times)\n",
    "\n",
    "    # select neurons covered often\n",
    "    if '0' in list(neuron_select_strategy):\n",
    "        if times_total == 0:\n",
    "            return random_strategy(model, model_layer_times, 1)#The beginning of no neurons covered\n",
    "        neurons_covered_percentage = neurons_covered_times / float(times_total)\n",
    "        num_neuron0 = np.random.choice(range(len(neurons_covered_times)), int(neuron_to_cover_num_each), replace=False, p=neurons_covered_percentage)\n",
    "        for num in num_neuron0:\n",
    "            layer_name0, index0 = neurons_key_pos[num]\n",
    "            loss0_neuron = K.mean(model.get_layer(layer_name0).output[..., index0])\n",
    "            loss_neuron.append(loss0_neuron)\n",
    "\n",
    "    # select neurons covered rarely\n",
    "    if '1' in list(neuron_select_strategy):\n",
    "        if times_total == 0:\n",
    "            return random_strategy(model, model_layer_times, 1)\n",
    "        neurons_covered_times_inverse = np.subtract(max(neurons_covered_times), neurons_covered_times)\n",
    "        neurons_covered_percentage_inverse = neurons_covered_times_inverse / float(sum(neurons_covered_times_inverse))\n",
    "        # num_neuron1 = np.random.choice(range(len(neurons_covered_times)), p=neurons_covered_percentage_inverse)\n",
    "        num_neuron1 = np.random.choice(range(len(neurons_covered_times)), int(neuron_to_cover_num_each), replace=False,\n",
    "                                       p=neurons_covered_percentage_inverse)\n",
    "        for num in num_neuron1:\n",
    "            layer_name1, index1 = neurons_key_pos[num]\n",
    "            loss1_neuron = K.mean(model.get_layer(layer_name1).output[..., index1])\n",
    "            loss_neuron.append(loss1_neuron)\n",
    "\n",
    "    # select neurons with largest weights (feature maps with largest filter weights)\n",
    "    if '2' in list(neuron_select_strategy):\n",
    "        layer_names = [layer.name for layer in model.layers if\n",
    "                       'flatten' not in layer.name and 'input' not in layer.name]\n",
    "        k = 0.1\n",
    "        top_k = k * len(model_layer_times)  # number of neurons to be selected within\n",
    "        global model_layer_weights_top_k\n",
    "        if len(model_layer_weights_top_k) == 0:\n",
    "            neuron_select_high_weight(model, layer_names, top_k)  # Set the value\n",
    "        num_neuron2 = np.random.choice(range(len(model_layer_weights_top_k)), int(neuron_to_cover_num_each), replace=False)\n",
    "        for i in num_neuron2:\n",
    "            layer_name2 = model_layer_weights_top_k[i][0]\n",
    "            index2 = model_layer_weights_top_k[i][1]\n",
    "            loss2_neuron = K.mean(model.get_layer(layer_name2).output[..., index2])\n",
    "            loss_neuron.append(loss2_neuron)\n",
    "\n",
    "    if '3' in list(neuron_select_strategy):\n",
    "        above_threshold = []\n",
    "        below_threshold = []\n",
    "        above_num = neuron_to_cover_num_each / 2\n",
    "        below_num = neuron_to_cover_num_each - above_num\n",
    "        above_i = 0\n",
    "        below_i = 0\n",
    "        for (layer_name, index), value in model_layer_value.items():\n",
    "            if threshold + 0.25 > value > threshold and layer_name != 'fc1' and layer_name != 'fc2' and \\\n",
    "                    layer_name != 'predictions' and layer_name != 'fc1000' and above_i < above_num:\n",
    "                above_threshold.append([layer_name, index])\n",
    "                above_i += 1\n",
    "            elif threshold > value > threshold - 0.2 and layer_name != 'fc1' and layer_name != 'fc2' and \\\n",
    "                    layer_name != 'predictions' and layer_name != 'fc1000' and below_i < below_num:\n",
    "                below_threshold.append([layer_name, index])\n",
    "                below_i += 1\n",
    "\n",
    "        loss_neuron = []\n",
    "        if len(above_threshold) > 0:\n",
    "            for above_item in range(len(above_threshold)):\n",
    "                loss_neuron.append(K.mean(\n",
    "                    model.get_layer(above_threshold[above_item][0]).output[..., above_threshold[above_item][1]]))\n",
    "\n",
    "        if len(below_threshold) > 0:\n",
    "            for below_item in range(len(below_threshold)):\n",
    "                loss_neuron.append(-K.mean(\n",
    "                    model.get_layer(below_threshold[below_item][0]).output[..., below_threshold[below_item][1]]))\n",
    "\n",
    "        if loss_neuron == 0:\n",
    "            return random_strategy(model, model_layer_times, 1)  # The beginning of no neurons covered\n",
    "\n",
    "    return loss_neuron"
   ]
  },
  {
   "cell_type": "code",
   "execution_count": 60,
   "metadata": {
    "id": "JeXtsao0KNmx"
   },
   "outputs": [],
   "source": [
    "def neuron_scale(loss_neuron):\n",
    "    loss_neuron_new = []\n",
    "    loss_sum = K.sum(loss_neuron)\n",
    "    for loss_each in loss_neuron:\n",
    "        loss_each /= loss_sum\n",
    "        loss_neuron_new.append(loss_each)\n",
    "    return loss_neuron_new"
   ]
  },
  {
   "cell_type": "code",
   "execution_count": 61,
   "metadata": {
    "id": "F8fcEqzzKW9-"
   },
   "outputs": [],
   "source": [
    "def neuron_scale_maxmin(loss_neuron):\n",
    "    max_loss = K.max(loss_neuron)\n",
    "    min_loss = K.min(loss_neuron)\n",
    "    base = max_loss - min_loss\n",
    "    loss_neuron_new = []\n",
    "    for loss_each in loss_neuron:\n",
    "        loss_each_new = (loss_each - min_loss) / base\n",
    "        loss_neuron_new.append(loss_each_new)\n",
    "    return loss_neuron_new"
   ]
  },
  {
   "cell_type": "code",
   "execution_count": 62,
   "metadata": {
    "id": "r7USR7gKKYGH"
   },
   "outputs": [],
   "source": [
    "def neuron_covered(model_layer_times):\n",
    "    covered_neurons = len([v for v in model_layer_times.values() if v > 0])\n",
    "    total_neurons = len(model_layer_times)\n",
    "    return covered_neurons, total_neurons, covered_neurons / float(total_neurons)"
   ]
  },
  {
   "cell_type": "code",
   "execution_count": 63,
   "metadata": {
    "id": "0KX0LhzSKZH_"
   },
   "outputs": [],
   "source": [
    "def scale(intermediate_layer_output, rmax=1, rmin=0):\n",
    "    X_std = (intermediate_layer_output - intermediate_layer_output.min()) / (\n",
    "        intermediate_layer_output.max() - intermediate_layer_output.min())\n",
    "    X_scaled = X_std * (rmax - rmin) + rmin\n",
    "    return X_scaled"
   ]
  },
  {
   "cell_type": "markdown",
   "metadata": {
    "id": "ckB4QDDUd305"
   },
   "source": [
    "Instead of NC use and test KMNC, NBC, SNAC and TKNC\n"
   ]
  },
  {
   "cell_type": "code",
   "execution_count": 64,
   "metadata": {
    "id": "b1XRMv3UKagG"
   },
   "outputs": [],
   "source": [
    "def update_coverage(input_data, model, model_layer_times, threshold=0):\n",
    "    layer_names = [layer.name for layer in model.layers if\n",
    "                   'flatten' not in layer.name and 'input' not in layer.name]\n",
    "\n",
    "    intermediate_layer_model = Model(inputs=model.input,\n",
    "                                     outputs=[model.get_layer(layer_name).output for layer_name in layer_names])\n",
    "    intermediate_layer_outputs = intermediate_layer_model.predict(input_data)\n",
    "\n",
    "    for i, intermediate_layer_output in enumerate(intermediate_layer_outputs):\n",
    "        scaled = scale(intermediate_layer_output[0])\n",
    "        # xrange(scaled.shape[-1])\n",
    "        for num_neuron in range(scaled.shape[-1]):\n",
    "            if np.mean(scaled[..., num_neuron]) > threshold: #and model_layer_dict[(layer_names[i], num_neuron)] == 0:\n",
    "                model_layer_times[(layer_names[i], num_neuron)] += 1\n",
    "\n",
    "    return intermediate_layer_outputs"
   ]
  },
  {
   "cell_type": "code",
   "execution_count": 65,
   "metadata": {
    "id": "PVdvtYWiKcXs"
   },
   "outputs": [],
   "source": [
    "def update_coverage_value(input_data, model, model_layer_value):\n",
    "    layer_names = [layer.name for layer in model.layers if\n",
    "                   'flatten' not in layer.name and 'input' not in layer.name]\n",
    "\n",
    "    intermediate_layer_model = Model(inputs=model.input,\n",
    "                                     outputs=[model.get_layer(layer_name).output for layer_name in layer_names])\n",
    "    intermediate_layer_outputs = intermediate_layer_model.predict(input_data)\n",
    "\n",
    "    for i, intermediate_layer_output in enumerate(intermediate_layer_outputs):\n",
    "        scaled = scale(intermediate_layer_output[0])\n",
    "        # xrange(scaled.shape[-1])\n",
    "        for num_neuron in range(scaled.shape[-1]):\n",
    "            model_layer_value[(layer_names[i], num_neuron)] = np.mean(scaled[..., num_neuron])\n",
    "\n",
    "    return intermediate_layer_outputs"
   ]
  },
  {
   "cell_type": "code",
   "execution_count": 66,
   "metadata": {
    "id": "VVMarpZeKdbX"
   },
   "outputs": [],
   "source": [
    "def full_coverage(model_layer_dict):\n",
    "    if False in model_layer_dict.values():\n",
    "        return False\n",
    "    return True"
   ]
  },
  {
   "cell_type": "code",
   "execution_count": 67,
   "metadata": {
    "id": "9DpKjUqRKets"
   },
   "outputs": [],
   "source": [
    "def fired(model, layer_name, index, input_data, threshold=0):\n",
    "    intermediate_layer_model = Model(inputs=model.input, outputs=model.get_layer(layer_name).output)\n",
    "    intermediate_layer_output = intermediate_layer_model.predict(input_data)[0]\n",
    "    scaled = scale(intermediate_layer_output)\n",
    "    if np.mean(scaled[..., index]) > threshold:\n",
    "        return True\n",
    "    return False"
   ]
  },
  {
   "cell_type": "code",
   "execution_count": 68,
   "metadata": {
    "id": "t9ophWE8Kf9t"
   },
   "outputs": [],
   "source": [
    "def diverged(predictions1, predictions2, predictions3, target):\n",
    "    if not predictions1 == predictions2 == predictions3:\n",
    "        return True\n",
    "    return False"
   ]
  },
  {
   "cell_type": "code",
   "execution_count": 69,
   "metadata": {
    "id": "M725YwKSi7CU"
   },
   "outputs": [],
   "source": [
    "def get_signature():\n",
    "    now = datetime.now()\n",
    "    past = datetime(2015, 6, 6, 0, 0, 0, 0)\n",
    "    timespan = now - past\n",
    "    time_sig = int(timespan.total_seconds() * 1000)\n",
    "\n",
    "    return str(time_sig)"
   ]
  },
  {
   "cell_type": "markdown",
   "metadata": {
    "id": "ZIE5eGCFLGd_"
   },
   "source": [
    "# main program"
   ]
  },
  {
   "cell_type": "markdown",
   "metadata": {
    "id": "xP-y_IwpLbZP"
   },
   "source": [
    "example input"
   ]
  },
  {
   "cell_type": "code",
   "execution_count": 70,
   "metadata": {
    "id": "DHjimDwJLFCt"
   },
   "outputs": [],
   "source": [
    "# [2] 0.25 10 0602 3 vgg16"
   ]
  },
  {
   "cell_type": "markdown",
   "metadata": {
    "id": "OOEZK06yLhLF"
   },
   "source": [
    "inputs"
   ]
  },
  {
   "cell_type": "code",
   "execution_count": 71,
   "metadata": {
    "id": "iKU7LmxfLkb7"
   },
   "outputs": [],
   "source": [
    "# e.g.[0,1,2] None for neurons not covered, 0 for covered often, 1 for covered rarely, 2 for high weights\n",
    "neuron_select_strategy = '1'\n",
    "threshold = float(0.25)\n",
    "neuron_to_cover_num = int(10)\n",
    "iteration_times = int(1)\n",
    "model_name = 'vgg16'\n",
    "perturb_levels = [0.25, 0.5, 1, 2, 4]"
   ]
  },
  {
   "cell_type": "code",
   "execution_count": 72,
   "metadata": {
    "colab": {
     "base_uri": "https://localhost:8080/"
    },
    "executionInfo": {
     "elapsed": 10227,
     "status": "ok",
     "timestamp": 1652879213665,
     "user": {
      "displayName": "Justus Renkhoff",
      "userId": "12982392699296254637"
     },
     "user_tz": -120
    },
    "id": "GWv3MoKkLpBN",
    "outputId": "cb53f773-b7db-4e89-94fc-23178fcb4d09"
   },
   "outputs": [
    {
     "name": "stdout",
     "output_type": "stream",
     "text": [
      "vgg16\n"
     ]
    }
   ],
   "source": [
    "# input image dimensions\n",
    "img_rows, img_cols = 224, 224\n",
    "input_shape = (img_rows, img_cols, 3)\n",
    "\n",
    "# define input tensor as a placeholder\n",
    "input_tensor = Input(shape=input_shape)\n",
    "\n",
    "# load multiple models sharing same input tensor\n",
    "K.set_learning_phase(0)\n",
    "\n",
    "if model_name == 'vgg16':\n",
    "    model1 = VGG16(input_tensor=input_tensor)\n",
    "elif model_name == 'vgg19':\n",
    "    model1 = VGG19(input_tensor=input_tensor)\n",
    "elif model_name == 'resnet50':\n",
    "    model1 = ResNet50(input_tensor=input_tensor)\n",
    "else:\n",
    "    print('please specify model name')\n",
    "    os._exit(0)\n",
    "\n",
    "print(model1.name)"
   ]
  },
  {
   "cell_type": "code",
   "execution_count": 73,
   "metadata": {
    "colab": {
     "base_uri": "https://localhost:8080/"
    },
    "executionInfo": {
     "elapsed": 536143,
     "status": "ok",
     "timestamp": 1652879750680,
     "user": {
      "displayName": "Justus Renkhoff",
      "userId": "12982392699296254637"
     },
     "user_tz": -120
    },
    "id": "9qVVy__LiqWx",
    "outputId": "63ce00c1-239f-4ee3-efc7-fc3e717ba378"
   },
   "outputs": [
    {
     "name": "stdout",
     "output_type": "stream",
     "text": [
      "ImageNet/seeds_20/ILSVRC2012_test_00000055.JPEG\n",
      "covered neurons percentage 14888 neurons 0.050\n",
      "used time : 16.717482000000018\n",
      "__________________________________\n",
      "ImageNet/seeds_20/ILSVRC2012_test_00000100.JPEG\n",
      "covered neurons percentage 14888 neurons 0.081\n",
      "used time : 14.231414600000107\n",
      "__________________________________\n",
      "ImageNet/seeds_20/ILSVRC2012_test_00000227.JPEG\n",
      "covered neurons percentage 14888 neurons 0.137\n",
      "used time : 14.913140500000054\n",
      "__________________________________\n",
      "ImageNet/seeds_20/ILSVRC2012_test_00000329.JPEG\n",
      "covered neurons percentage 14888 neurons 0.167\n",
      "used time : 14.540559999999914\n",
      "__________________________________\n",
      "ImageNet/seeds_20/ILSVRC2012_test_00000380.JPEG\n",
      "covered neurons percentage 14888 neurons 0.202\n",
      "used time : 15.310081800000034\n",
      "__________________________________\n",
      "ImageNet/seeds_20/ILSVRC2012_test_00000505.JPEG\n",
      "covered neurons percentage 14888 neurons 0.226\n",
      "used time : 15.229793100000052\n",
      "__________________________________\n",
      "ImageNet/seeds_20/ILSVRC2012_test_00000517.JPEG\n",
      "covered neurons percentage 14888 neurons 0.259\n",
      "used time : 14.842848100000083\n",
      "__________________________________\n",
      "ImageNet/seeds_20/ILSVRC2012_test_00001091.JPEG\n",
      "covered neurons percentage 14888 neurons 0.289\n",
      "used time : 14.372058799999877\n",
      "__________________________________\n",
      "ImageNet/seeds_20/ILSVRC2012_test_00001117.JPEG\n",
      "covered neurons percentage 14888 neurons 0.311\n",
      "used time : 15.864485000000059\n",
      "__________________________________\n",
      "ImageNet/seeds_20/ILSVRC2012_test_00001173.JPEG\n",
      "covered neurons percentage 14888 neurons 0.333\n",
      "used time : 15.231524000000036\n",
      "__________________________________\n",
      "ImageNet/seeds_20/ILSVRC2012_test_00001248.JPEG\n",
      "covered neurons percentage 14888 neurons 0.351\n",
      "used time : 15.969318599999951\n",
      "__________________________________\n",
      "ImageNet/seeds_20/ILSVRC2012_test_00001296.JPEG\n",
      "covered neurons percentage 14888 neurons 0.363\n",
      "used time : 15.549457399999937\n",
      "__________________________________\n",
      "ImageNet/seeds_20/ILSVRC2012_test_00001442.JPEG\n",
      "covered neurons percentage 14888 neurons 0.375\n",
      "used time : 16.4298153000002\n",
      "__________________________________\n",
      "ImageNet/seeds_20/ILSVRC2012_test_00001582.JPEG\n",
      "covered neurons percentage 14888 neurons 0.388\n",
      "used time : 17.18800229999988\n",
      "__________________________________\n",
      "ImageNet/seeds_20/ILSVRC2012_test_00001810.JPEG\n",
      "covered neurons percentage 14888 neurons 0.399\n",
      "used time : 15.594431199999917\n",
      "__________________________________\n",
      "ImageNet/seeds_20/ILSVRC2012_test_00001890.JPEG\n",
      "covered neurons percentage 14888 neurons 0.404\n",
      "used time : 16.70754779999993\n",
      "__________________________________\n",
      "ImageNet/seeds_20/ILSVRC2012_test_00001896.JPEG\n",
      "covered neurons percentage 14888 neurons 0.418\n",
      "used time : 15.736287199999879\n",
      "__________________________________\n",
      "ImageNet/seeds_20/ILSVRC2012_test_00001905.JPEG\n",
      "covered neurons percentage 14888 neurons 0.427\n",
      "used time : 18.268143000000236\n",
      "__________________________________\n",
      "ImageNet/seeds_20/ILSVRC2012_test_00001909.JPEG\n",
      "covered neurons percentage 14888 neurons 0.436\n",
      "used time : 19.193580399999973\n",
      "__________________________________\n",
      "ImageNet/seeds_20/ILSVRC2012_test_00001990.JPEG\n",
      "covered neurons percentage 14888 neurons 0.442\n",
      "used time : 17.62263569999959\n",
      "__________________________________\n",
      "{'0.25': [0.050107469102632994, 0.08127350886620097, 0.13722461042450296, 0.16650994089199356, 0.20237775389575496, 0.22649113379903277, 0.25947071466953253, 0.2894277270284793, 0.3109215475550779, 0.332684040838259, 0.35061794734013974, 0.3633799032778076, 0.3747313272434175, 0.3883664696399785, 0.3987775389575497, 0.4039494895217625, 0.41812197743148843, 0.4269881783987104, 0.4363245566899516, 0.442101020956475]}\n",
      "ImageNet/seeds_20/ILSVRC2012_test_00000055.JPEG\n",
      "covered neurons percentage 14888 neurons 0.442\n",
      "used time : 18.33059289999983\n",
      "__________________________________\n",
      "ImageNet/seeds_20/ILSVRC2012_test_00000100.JPEG\n",
      "covered neurons percentage 14888 neurons 0.442\n",
      "used time : 18.44934400000011\n",
      "__________________________________\n",
      "ImageNet/seeds_20/ILSVRC2012_test_00000227.JPEG\n",
      "covered neurons percentage 14888 neurons 0.442\n",
      "used time : 18.23746390000042\n",
      "__________________________________\n",
      "ImageNet/seeds_20/ILSVRC2012_test_00000329.JPEG\n",
      "covered neurons percentage 14888 neurons 0.442\n",
      "used time : 19.48693930000036\n",
      "__________________________________\n",
      "ImageNet/seeds_20/ILSVRC2012_test_00000380.JPEG\n",
      "covered neurons percentage 14888 neurons 0.442\n",
      "used time : 20.00173840000025\n",
      "__________________________________\n",
      "ImageNet/seeds_20/ILSVRC2012_test_00000505.JPEG\n",
      "covered neurons percentage 14888 neurons 0.442\n",
      "used time : 19.45725659999971\n",
      "__________________________________\n",
      "ImageNet/seeds_20/ILSVRC2012_test_00000517.JPEG\n",
      "covered neurons percentage 14888 neurons 0.442\n",
      "used time : 17.415033400000084\n",
      "__________________________________\n",
      "ImageNet/seeds_20/ILSVRC2012_test_00001091.JPEG\n",
      "covered neurons percentage 14888 neurons 0.442\n",
      "used time : 17.857669299999998\n",
      "__________________________________\n",
      "ImageNet/seeds_20/ILSVRC2012_test_00001117.JPEG\n",
      "covered neurons percentage 14888 neurons 0.442\n",
      "used time : 16.310278899999958\n",
      "__________________________________\n",
      "ImageNet/seeds_20/ILSVRC2012_test_00001173.JPEG\n",
      "covered neurons percentage 14888 neurons 0.442\n",
      "used time : 16.98135930000035\n",
      "__________________________________\n",
      "ImageNet/seeds_20/ILSVRC2012_test_00001248.JPEG\n",
      "covered neurons percentage 14888 neurons 0.442\n",
      "used time : 17.649699099999907\n",
      "__________________________________\n",
      "ImageNet/seeds_20/ILSVRC2012_test_00001296.JPEG\n",
      "covered neurons percentage 14888 neurons 0.442\n",
      "used time : 18.639909499999703\n",
      "__________________________________\n",
      "ImageNet/seeds_20/ILSVRC2012_test_00001442.JPEG\n",
      "covered neurons percentage 14888 neurons 0.442\n",
      "used time : 19.492337500000303\n",
      "__________________________________\n",
      "ImageNet/seeds_20/ILSVRC2012_test_00001582.JPEG\n",
      "covered neurons percentage 14888 neurons 0.442\n",
      "used time : 18.773895100000118\n",
      "__________________________________\n",
      "ImageNet/seeds_20/ILSVRC2012_test_00001810.JPEG\n",
      "covered neurons percentage 14888 neurons 0.442\n",
      "used time : 19.419873599999846\n",
      "__________________________________\n",
      "ImageNet/seeds_20/ILSVRC2012_test_00001890.JPEG\n",
      "covered neurons percentage 14888 neurons 0.442\n",
      "used time : 18.100734099999954\n",
      "__________________________________\n",
      "ImageNet/seeds_20/ILSVRC2012_test_00001896.JPEG\n",
      "covered neurons percentage 14888 neurons 0.442\n",
      "used time : 17.734687399999984\n",
      "__________________________________\n",
      "ImageNet/seeds_20/ILSVRC2012_test_00001905.JPEG\n",
      "covered neurons percentage 14888 neurons 0.442\n",
      "used time : 19.65656220000028\n",
      "__________________________________\n",
      "ImageNet/seeds_20/ILSVRC2012_test_00001909.JPEG\n",
      "covered neurons percentage 14888 neurons 0.442\n",
      "used time : 18.947411699999975\n",
      "__________________________________\n",
      "ImageNet/seeds_20/ILSVRC2012_test_00001990.JPEG\n",
      "covered neurons percentage 14888 neurons 0.442\n",
      "used time : 20.17540740000004\n",
      "__________________________________\n",
      "{'0.25': [0.050107469102632994, 0.08127350886620097, 0.13722461042450296, 0.16650994089199356, 0.20237775389575496, 0.22649113379903277, 0.25947071466953253, 0.2894277270284793, 0.3109215475550779, 0.332684040838259, 0.35061794734013974, 0.3633799032778076, 0.3747313272434175, 0.3883664696399785, 0.3987775389575497, 0.4039494895217625, 0.41812197743148843, 0.4269881783987104, 0.4363245566899516, 0.442101020956475, 0.442101020956475, 0.442101020956475, 0.4421681891456206, 0.4421681891456206, 0.4421681891456206, 0.4421681891456206, 0.4421681891456206, 0.4421681891456206, 0.4421681891456206, 0.44230252552391186, 0.4423696937130575, 0.4423696937130575, 0.4423696937130575, 0.4423696937130575, 0.4423696937130575, 0.4423696937130575, 0.4423696937130575, 0.4423696937130575, 0.4423696937130575, 0.4423696937130575], '0.5': [0.050107469102632994, 0.08127350886620097, 0.13722461042450296, 0.16650994089199356, 0.20237775389575496, 0.22649113379903277, 0.25947071466953253, 0.2894277270284793, 0.3109215475550779, 0.332684040838259, 0.35061794734013974, 0.3633799032778076, 0.3747313272434175, 0.3883664696399785, 0.3987775389575497, 0.4039494895217625, 0.41812197743148843, 0.4269881783987104, 0.4363245566899516, 0.442101020956475, 0.442101020956475, 0.442101020956475, 0.4421681891456206, 0.4421681891456206, 0.4421681891456206, 0.4421681891456206, 0.4421681891456206, 0.4421681891456206, 0.4421681891456206, 0.44230252552391186, 0.4423696937130575, 0.4423696937130575, 0.4423696937130575, 0.4423696937130575, 0.4423696937130575, 0.4423696937130575, 0.4423696937130575, 0.4423696937130575, 0.4423696937130575, 0.4423696937130575]}\n",
      "ImageNet/seeds_20/ILSVRC2012_test_00000055.JPEG\n"
     ]
    },
    {
     "name": "stdout",
     "output_type": "stream",
     "text": [
      "covered neurons percentage 14888 neurons 0.442\n",
      "used time : 19.37285759999986\n",
      "__________________________________\n",
      "ImageNet/seeds_20/ILSVRC2012_test_00000100.JPEG\n",
      "covered neurons percentage 14888 neurons 0.442\n",
      "used time : 19.962676600000123\n",
      "__________________________________\n",
      "ImageNet/seeds_20/ILSVRC2012_test_00000227.JPEG\n",
      "covered neurons percentage 14888 neurons 0.443\n",
      "used time : 21.992605699999785\n",
      "__________________________________\n",
      "ImageNet/seeds_20/ILSVRC2012_test_00000329.JPEG\n",
      "covered neurons percentage 14888 neurons 0.443\n",
      "used time : 20.349661300000207\n",
      "__________________________________\n",
      "ImageNet/seeds_20/ILSVRC2012_test_00000380.JPEG\n",
      "covered neurons percentage 14888 neurons 0.443\n",
      "used time : 20.95690579999973\n",
      "__________________________________\n",
      "ImageNet/seeds_20/ILSVRC2012_test_00000505.JPEG\n",
      "covered neurons percentage 14888 neurons 0.443\n",
      "used time : 20.51771770000005\n",
      "__________________________________\n",
      "ImageNet/seeds_20/ILSVRC2012_test_00000517.JPEG\n",
      "covered neurons percentage 14888 neurons 0.443\n",
      "used time : 22.0745323000001\n",
      "__________________________________\n",
      "ImageNet/seeds_20/ILSVRC2012_test_00001091.JPEG\n",
      "covered neurons percentage 14888 neurons 0.443\n",
      "used time : 22.51882680000017\n",
      "__________________________________\n",
      "ImageNet/seeds_20/ILSVRC2012_test_00001117.JPEG\n",
      "covered neurons percentage 14888 neurons 0.443\n",
      "used time : 21.970172899999852\n",
      "__________________________________\n",
      "ImageNet/seeds_20/ILSVRC2012_test_00001173.JPEG\n",
      "covered neurons percentage 14888 neurons 0.443\n",
      "used time : 22.542806200000086\n",
      "__________________________________\n",
      "ImageNet/seeds_20/ILSVRC2012_test_00001248.JPEG\n",
      "covered neurons percentage 14888 neurons 0.443\n",
      "used time : 23.904176300000017\n",
      "__________________________________\n",
      "ImageNet/seeds_20/ILSVRC2012_test_00001296.JPEG\n",
      "covered neurons percentage 14888 neurons 0.443\n",
      "used time : 23.040817699999934\n",
      "__________________________________\n",
      "ImageNet/seeds_20/ILSVRC2012_test_00001442.JPEG\n",
      "covered neurons percentage 14888 neurons 0.443\n",
      "used time : 22.68310059999976\n",
      "__________________________________\n",
      "ImageNet/seeds_20/ILSVRC2012_test_00001582.JPEG\n",
      "covered neurons percentage 14888 neurons 0.443\n",
      "used time : 23.204870799999753\n",
      "__________________________________\n",
      "ImageNet/seeds_20/ILSVRC2012_test_00001810.JPEG\n",
      "covered neurons percentage 14888 neurons 0.443\n",
      "used time : 22.90263929999992\n",
      "__________________________________\n",
      "ImageNet/seeds_20/ILSVRC2012_test_00001890.JPEG\n",
      "covered neurons percentage 14888 neurons 0.443\n",
      "used time : 22.376274000000194\n",
      "__________________________________\n",
      "ImageNet/seeds_20/ILSVRC2012_test_00001896.JPEG\n",
      "covered neurons percentage 14888 neurons 0.443\n",
      "used time : 23.392592199999854\n",
      "__________________________________\n",
      "ImageNet/seeds_20/ILSVRC2012_test_00001905.JPEG\n",
      "covered neurons percentage 14888 neurons 0.443\n",
      "used time : 24.296895499999664\n",
      "__________________________________\n",
      "ImageNet/seeds_20/ILSVRC2012_test_00001909.JPEG\n",
      "covered neurons percentage 14888 neurons 0.443\n",
      "used time : 24.330206299999645\n",
      "__________________________________\n",
      "ImageNet/seeds_20/ILSVRC2012_test_00001990.JPEG\n",
      "covered neurons percentage 14888 neurons 0.443\n",
      "used time : 24.266872199999852\n",
      "__________________________________\n",
      "{'0.25': [0.050107469102632994, 0.08127350886620097, 0.13722461042450296, 0.16650994089199356, 0.20237775389575496, 0.22649113379903277, 0.25947071466953253, 0.2894277270284793, 0.3109215475550779, 0.332684040838259, 0.35061794734013974, 0.3633799032778076, 0.3747313272434175, 0.3883664696399785, 0.3987775389575497, 0.4039494895217625, 0.41812197743148843, 0.4269881783987104, 0.4363245566899516, 0.442101020956475, 0.442101020956475, 0.442101020956475, 0.4421681891456206, 0.4421681891456206, 0.4421681891456206, 0.4421681891456206, 0.4421681891456206, 0.4421681891456206, 0.4421681891456206, 0.44230252552391186, 0.4423696937130575, 0.4423696937130575, 0.4423696937130575, 0.4423696937130575, 0.4423696937130575, 0.4423696937130575, 0.4423696937130575, 0.4423696937130575, 0.4423696937130575, 0.4423696937130575, 0.4423696937130575, 0.4423696937130575, 0.44250403009134875, 0.44250403009134875, 0.44257119828049435, 0.44257119828049435, 0.44257119828049435, 0.44257119828049435, 0.44257119828049435, 0.44257119828049435, 0.44257119828049435, 0.44283987103707684, 0.4429070392262225, 0.4429742074153681, 0.4429742074153681, 0.4429742074153681, 0.4429742074153681, 0.4429742074153681, 0.4429742074153681, 0.4429742074153681], '0.5': [0.050107469102632994, 0.08127350886620097, 0.13722461042450296, 0.16650994089199356, 0.20237775389575496, 0.22649113379903277, 0.25947071466953253, 0.2894277270284793, 0.3109215475550779, 0.332684040838259, 0.35061794734013974, 0.3633799032778076, 0.3747313272434175, 0.3883664696399785, 0.3987775389575497, 0.4039494895217625, 0.41812197743148843, 0.4269881783987104, 0.4363245566899516, 0.442101020956475, 0.442101020956475, 0.442101020956475, 0.4421681891456206, 0.4421681891456206, 0.4421681891456206, 0.4421681891456206, 0.4421681891456206, 0.4421681891456206, 0.4421681891456206, 0.44230252552391186, 0.4423696937130575, 0.4423696937130575, 0.4423696937130575, 0.4423696937130575, 0.4423696937130575, 0.4423696937130575, 0.4423696937130575, 0.4423696937130575, 0.4423696937130575, 0.4423696937130575, 0.4423696937130575, 0.4423696937130575, 0.44250403009134875, 0.44250403009134875, 0.44257119828049435, 0.44257119828049435, 0.44257119828049435, 0.44257119828049435, 0.44257119828049435, 0.44257119828049435, 0.44257119828049435, 0.44283987103707684, 0.4429070392262225, 0.4429742074153681, 0.4429742074153681, 0.4429742074153681, 0.4429742074153681, 0.4429742074153681, 0.4429742074153681, 0.4429742074153681], '1': [0.050107469102632994, 0.08127350886620097, 0.13722461042450296, 0.16650994089199356, 0.20237775389575496, 0.22649113379903277, 0.25947071466953253, 0.2894277270284793, 0.3109215475550779, 0.332684040838259, 0.35061794734013974, 0.3633799032778076, 0.3747313272434175, 0.3883664696399785, 0.3987775389575497, 0.4039494895217625, 0.41812197743148843, 0.4269881783987104, 0.4363245566899516, 0.442101020956475, 0.442101020956475, 0.442101020956475, 0.4421681891456206, 0.4421681891456206, 0.4421681891456206, 0.4421681891456206, 0.4421681891456206, 0.4421681891456206, 0.4421681891456206, 0.44230252552391186, 0.4423696937130575, 0.4423696937130575, 0.4423696937130575, 0.4423696937130575, 0.4423696937130575, 0.4423696937130575, 0.4423696937130575, 0.4423696937130575, 0.4423696937130575, 0.4423696937130575, 0.4423696937130575, 0.4423696937130575, 0.44250403009134875, 0.44250403009134875, 0.44257119828049435, 0.44257119828049435, 0.44257119828049435, 0.44257119828049435, 0.44257119828049435, 0.44257119828049435, 0.44257119828049435, 0.44283987103707684, 0.4429070392262225, 0.4429742074153681, 0.4429742074153681, 0.4429742074153681, 0.4429742074153681, 0.4429742074153681, 0.4429742074153681, 0.4429742074153681]}\n",
      "ImageNet/seeds_20/ILSVRC2012_test_00000055.JPEG\n",
      "covered neurons percentage 14888 neurons 0.443\n",
      "used time : 25.30723799999987\n",
      "__________________________________\n",
      "ImageNet/seeds_20/ILSVRC2012_test_00000100.JPEG\n",
      "covered neurons percentage 14888 neurons 0.443\n",
      "used time : 24.756825299999946\n",
      "__________________________________\n",
      "ImageNet/seeds_20/ILSVRC2012_test_00000227.JPEG\n",
      "covered neurons percentage 14888 neurons 0.443\n",
      "used time : 23.637789800000064\n",
      "__________________________________\n",
      "ImageNet/seeds_20/ILSVRC2012_test_00000329.JPEG\n",
      "covered neurons percentage 14888 neurons 0.443\n",
      "used time : 23.388703500000247\n",
      "__________________________________\n",
      "ImageNet/seeds_20/ILSVRC2012_test_00000380.JPEG\n",
      "covered neurons percentage 14888 neurons 0.444\n",
      "used time : 24.35972569999967\n",
      "__________________________________\n",
      "ImageNet/seeds_20/ILSVRC2012_test_00000505.JPEG\n",
      "covered neurons percentage 14888 neurons 0.444\n",
      "used time : 24.251280999999835\n",
      "__________________________________\n",
      "ImageNet/seeds_20/ILSVRC2012_test_00000517.JPEG\n",
      "covered neurons percentage 14888 neurons 0.444\n",
      "used time : 24.400125500000286\n",
      "__________________________________\n",
      "ImageNet/seeds_20/ILSVRC2012_test_00001091.JPEG\n",
      "covered neurons percentage 14888 neurons 0.444\n",
      "used time : 24.131604299999708\n",
      "__________________________________\n",
      "ImageNet/seeds_20/ILSVRC2012_test_00001117.JPEG\n",
      "covered neurons percentage 14888 neurons 0.444\n",
      "used time : 25.029290299999957\n",
      "__________________________________\n",
      "ImageNet/seeds_20/ILSVRC2012_test_00001173.JPEG\n"
     ]
    },
    {
     "name": "stdout",
     "output_type": "stream",
     "text": [
      "covered neurons percentage 14888 neurons 0.444\n",
      "used time : 24.84438880000016\n",
      "__________________________________\n",
      "ImageNet/seeds_20/ILSVRC2012_test_00001248.JPEG\n",
      "covered neurons percentage 14888 neurons 0.444\n",
      "used time : 25.24787970000034\n",
      "__________________________________\n",
      "ImageNet/seeds_20/ILSVRC2012_test_00001296.JPEG\n",
      "covered neurons percentage 14888 neurons 0.444\n",
      "used time : 26.349654699999974\n",
      "__________________________________\n",
      "ImageNet/seeds_20/ILSVRC2012_test_00001442.JPEG\n",
      "covered neurons percentage 14888 neurons 0.444\n",
      "used time : 26.146984500000144\n",
      "__________________________________\n",
      "ImageNet/seeds_20/ILSVRC2012_test_00001582.JPEG\n",
      "covered neurons percentage 14888 neurons 0.444\n",
      "used time : 26.532175400000142\n",
      "__________________________________\n",
      "ImageNet/seeds_20/ILSVRC2012_test_00001810.JPEG\n",
      "covered neurons percentage 14888 neurons 0.444\n",
      "used time : 26.668642199999795\n",
      "__________________________________\n",
      "ImageNet/seeds_20/ILSVRC2012_test_00001890.JPEG\n",
      "covered neurons percentage 14888 neurons 0.444\n",
      "used time : 26.56402939999998\n",
      "__________________________________\n",
      "ImageNet/seeds_20/ILSVRC2012_test_00001896.JPEG\n",
      "covered neurons percentage 14888 neurons 0.444\n",
      "used time : 27.49997200000007\n",
      "__________________________________\n",
      "ImageNet/seeds_20/ILSVRC2012_test_00001905.JPEG\n",
      "covered neurons percentage 14888 neurons 0.444\n",
      "used time : 26.23767889999999\n",
      "__________________________________\n",
      "ImageNet/seeds_20/ILSVRC2012_test_00001909.JPEG\n",
      "covered neurons percentage 14888 neurons 0.444\n",
      "used time : 28.50755419999996\n",
      "__________________________________\n",
      "ImageNet/seeds_20/ILSVRC2012_test_00001990.JPEG\n",
      "covered neurons percentage 14888 neurons 0.445\n",
      "used time : 25.373101499999848\n",
      "__________________________________\n",
      "{'0.25': [0.050107469102632994, 0.08127350886620097, 0.13722461042450296, 0.16650994089199356, 0.20237775389575496, 0.22649113379903277, 0.25947071466953253, 0.2894277270284793, 0.3109215475550779, 0.332684040838259, 0.35061794734013974, 0.3633799032778076, 0.3747313272434175, 0.3883664696399785, 0.3987775389575497, 0.4039494895217625, 0.41812197743148843, 0.4269881783987104, 0.4363245566899516, 0.442101020956475, 0.442101020956475, 0.442101020956475, 0.4421681891456206, 0.4421681891456206, 0.4421681891456206, 0.4421681891456206, 0.4421681891456206, 0.4421681891456206, 0.4421681891456206, 0.44230252552391186, 0.4423696937130575, 0.4423696937130575, 0.4423696937130575, 0.4423696937130575, 0.4423696937130575, 0.4423696937130575, 0.4423696937130575, 0.4423696937130575, 0.4423696937130575, 0.4423696937130575, 0.4423696937130575, 0.4423696937130575, 0.44250403009134875, 0.44250403009134875, 0.44257119828049435, 0.44257119828049435, 0.44257119828049435, 0.44257119828049435, 0.44257119828049435, 0.44257119828049435, 0.44257119828049435, 0.44283987103707684, 0.4429070392262225, 0.4429742074153681, 0.4429742074153681, 0.4429742074153681, 0.4429742074153681, 0.4429742074153681, 0.4429742074153681, 0.4429742074153681, 0.4431085437936593, 0.4431085437936593, 0.4431757119828049, 0.4431757119828049, 0.44351155292853306, 0.44357872111767865, 0.4436458893068243, 0.4436458893068243, 0.4436458893068243, 0.44384739387426114, 0.4439145620634068, 0.4439145620634068, 0.4439817302525524, 0.4441832348199892, 0.4441832348199892, 0.4442504030091349, 0.4442504030091349, 0.44431757119828047, 0.4444519075765717, 0.44451907576571736], '0.5': [0.050107469102632994, 0.08127350886620097, 0.13722461042450296, 0.16650994089199356, 0.20237775389575496, 0.22649113379903277, 0.25947071466953253, 0.2894277270284793, 0.3109215475550779, 0.332684040838259, 0.35061794734013974, 0.3633799032778076, 0.3747313272434175, 0.3883664696399785, 0.3987775389575497, 0.4039494895217625, 0.41812197743148843, 0.4269881783987104, 0.4363245566899516, 0.442101020956475, 0.442101020956475, 0.442101020956475, 0.4421681891456206, 0.4421681891456206, 0.4421681891456206, 0.4421681891456206, 0.4421681891456206, 0.4421681891456206, 0.4421681891456206, 0.44230252552391186, 0.4423696937130575, 0.4423696937130575, 0.4423696937130575, 0.4423696937130575, 0.4423696937130575, 0.4423696937130575, 0.4423696937130575, 0.4423696937130575, 0.4423696937130575, 0.4423696937130575, 0.4423696937130575, 0.4423696937130575, 0.44250403009134875, 0.44250403009134875, 0.44257119828049435, 0.44257119828049435, 0.44257119828049435, 0.44257119828049435, 0.44257119828049435, 0.44257119828049435, 0.44257119828049435, 0.44283987103707684, 0.4429070392262225, 0.4429742074153681, 0.4429742074153681, 0.4429742074153681, 0.4429742074153681, 0.4429742074153681, 0.4429742074153681, 0.4429742074153681, 0.4431085437936593, 0.4431085437936593, 0.4431757119828049, 0.4431757119828049, 0.44351155292853306, 0.44357872111767865, 0.4436458893068243, 0.4436458893068243, 0.4436458893068243, 0.44384739387426114, 0.4439145620634068, 0.4439145620634068, 0.4439817302525524, 0.4441832348199892, 0.4441832348199892, 0.4442504030091349, 0.4442504030091349, 0.44431757119828047, 0.4444519075765717, 0.44451907576571736], '1': [0.050107469102632994, 0.08127350886620097, 0.13722461042450296, 0.16650994089199356, 0.20237775389575496, 0.22649113379903277, 0.25947071466953253, 0.2894277270284793, 0.3109215475550779, 0.332684040838259, 0.35061794734013974, 0.3633799032778076, 0.3747313272434175, 0.3883664696399785, 0.3987775389575497, 0.4039494895217625, 0.41812197743148843, 0.4269881783987104, 0.4363245566899516, 0.442101020956475, 0.442101020956475, 0.442101020956475, 0.4421681891456206, 0.4421681891456206, 0.4421681891456206, 0.4421681891456206, 0.4421681891456206, 0.4421681891456206, 0.4421681891456206, 0.44230252552391186, 0.4423696937130575, 0.4423696937130575, 0.4423696937130575, 0.4423696937130575, 0.4423696937130575, 0.4423696937130575, 0.4423696937130575, 0.4423696937130575, 0.4423696937130575, 0.4423696937130575, 0.4423696937130575, 0.4423696937130575, 0.44250403009134875, 0.44250403009134875, 0.44257119828049435, 0.44257119828049435, 0.44257119828049435, 0.44257119828049435, 0.44257119828049435, 0.44257119828049435, 0.44257119828049435, 0.44283987103707684, 0.4429070392262225, 0.4429742074153681, 0.4429742074153681, 0.4429742074153681, 0.4429742074153681, 0.4429742074153681, 0.4429742074153681, 0.4429742074153681, 0.4431085437936593, 0.4431085437936593, 0.4431757119828049, 0.4431757119828049, 0.44351155292853306, 0.44357872111767865, 0.4436458893068243, 0.4436458893068243, 0.4436458893068243, 0.44384739387426114, 0.4439145620634068, 0.4439145620634068, 0.4439817302525524, 0.4441832348199892, 0.4441832348199892, 0.4442504030091349, 0.4442504030091349, 0.44431757119828047, 0.4444519075765717, 0.44451907576571736], '2': [0.050107469102632994, 0.08127350886620097, 0.13722461042450296, 0.16650994089199356, 0.20237775389575496, 0.22649113379903277, 0.25947071466953253, 0.2894277270284793, 0.3109215475550779, 0.332684040838259, 0.35061794734013974, 0.3633799032778076, 0.3747313272434175, 0.3883664696399785, 0.3987775389575497, 0.4039494895217625, 0.41812197743148843, 0.4269881783987104, 0.4363245566899516, 0.442101020956475, 0.442101020956475, 0.442101020956475, 0.4421681891456206, 0.4421681891456206, 0.4421681891456206, 0.4421681891456206, 0.4421681891456206, 0.4421681891456206, 0.4421681891456206, 0.44230252552391186, 0.4423696937130575, 0.4423696937130575, 0.4423696937130575, 0.4423696937130575, 0.4423696937130575, 0.4423696937130575, 0.4423696937130575, 0.4423696937130575, 0.4423696937130575, 0.4423696937130575, 0.4423696937130575, 0.4423696937130575, 0.44250403009134875, 0.44250403009134875, 0.44257119828049435, 0.44257119828049435, 0.44257119828049435, 0.44257119828049435, 0.44257119828049435, 0.44257119828049435, 0.44257119828049435, 0.44283987103707684, 0.4429070392262225, 0.4429742074153681, 0.4429742074153681, 0.4429742074153681, 0.4429742074153681, 0.4429742074153681, 0.4429742074153681, 0.4429742074153681, 0.4431085437936593, 0.4431085437936593, 0.4431757119828049, 0.4431757119828049, 0.44351155292853306, 0.44357872111767865, 0.4436458893068243, 0.4436458893068243, 0.4436458893068243, 0.44384739387426114, 0.4439145620634068, 0.4439145620634068, 0.4439817302525524, 0.4441832348199892, 0.4441832348199892, 0.4442504030091349, 0.4442504030091349, 0.44431757119828047, 0.4444519075765717, 0.44451907576571736]}\n",
      "ImageNet/seeds_20/ILSVRC2012_test_00000055.JPEG\n"
     ]
    },
    {
     "name": "stdout",
     "output_type": "stream",
     "text": [
      "covered neurons percentage 14888 neurons 0.445\n",
      "used time : 26.1425720000002\n",
      "__________________________________\n",
      "ImageNet/seeds_20/ILSVRC2012_test_00000100.JPEG\n",
      "covered neurons percentage 14888 neurons 0.445\n",
      "used time : 28.098225100000036\n",
      "__________________________________\n",
      "ImageNet/seeds_20/ILSVRC2012_test_00000227.JPEG\n",
      "covered neurons percentage 14888 neurons 0.446\n",
      "used time : 27.609511799999837\n",
      "__________________________________\n",
      "ImageNet/seeds_20/ILSVRC2012_test_00000329.JPEG\n",
      "covered neurons percentage 14888 neurons 0.446\n",
      "used time : 27.71107400000028\n",
      "__________________________________\n",
      "ImageNet/seeds_20/ILSVRC2012_test_00000380.JPEG\n",
      "covered neurons percentage 14888 neurons 0.447\n",
      "used time : 27.990905099999964\n",
      "__________________________________\n",
      "ImageNet/seeds_20/ILSVRC2012_test_00000505.JPEG\n",
      "covered neurons percentage 14888 neurons 0.447\n",
      "used time : 26.669181800000388\n",
      "__________________________________\n",
      "ImageNet/seeds_20/ILSVRC2012_test_00000517.JPEG\n",
      "covered neurons percentage 14888 neurons 0.447\n",
      "used time : 29.08958759999996\n",
      "__________________________________\n",
      "ImageNet/seeds_20/ILSVRC2012_test_00001091.JPEG\n",
      "covered neurons percentage 14888 neurons 0.447\n",
      "used time : 26.797031699999934\n",
      "__________________________________\n",
      "ImageNet/seeds_20/ILSVRC2012_test_00001117.JPEG\n",
      "covered neurons percentage 14888 neurons 0.447\n",
      "used time : 28.281740699999773\n",
      "__________________________________\n",
      "ImageNet/seeds_20/ILSVRC2012_test_00001173.JPEG\n",
      "covered neurons percentage 14888 neurons 0.448\n",
      "used time : 29.067485099999885\n",
      "__________________________________\n",
      "ImageNet/seeds_20/ILSVRC2012_test_00001248.JPEG\n",
      "covered neurons percentage 14888 neurons 0.448\n",
      "used time : 29.242832400000225\n",
      "__________________________________\n",
      "ImageNet/seeds_20/ILSVRC2012_test_00001296.JPEG\n",
      "covered neurons percentage 14888 neurons 0.449\n",
      "used time : 29.37480379999988\n",
      "__________________________________\n",
      "ImageNet/seeds_20/ILSVRC2012_test_00001442.JPEG\n",
      "covered neurons percentage 14888 neurons 0.449\n",
      "used time : 29.221059500000138\n",
      "__________________________________\n",
      "ImageNet/seeds_20/ILSVRC2012_test_00001582.JPEG\n",
      "covered neurons percentage 14888 neurons 0.449\n",
      "used time : 29.841668700000355\n",
      "__________________________________\n",
      "ImageNet/seeds_20/ILSVRC2012_test_00001810.JPEG\n",
      "covered neurons percentage 14888 neurons 0.449\n",
      "used time : 28.885573800000202\n",
      "__________________________________\n",
      "ImageNet/seeds_20/ILSVRC2012_test_00001890.JPEG\n",
      "covered neurons percentage 14888 neurons 0.449\n",
      "used time : 28.101119200000085\n",
      "__________________________________\n",
      "ImageNet/seeds_20/ILSVRC2012_test_00001896.JPEG\n",
      "covered neurons percentage 14888 neurons 0.449\n",
      "used time : 29.20113900000024\n",
      "__________________________________\n",
      "ImageNet/seeds_20/ILSVRC2012_test_00001905.JPEG\n",
      "covered neurons percentage 14888 neurons 0.449\n",
      "used time : 26.737189700000272\n",
      "__________________________________\n",
      "ImageNet/seeds_20/ILSVRC2012_test_00001909.JPEG\n",
      "covered neurons percentage 14888 neurons 0.449\n",
      "used time : 29.89242030000014\n",
      "__________________________________\n",
      "ImageNet/seeds_20/ILSVRC2012_test_00001990.JPEG\n",
      "covered neurons percentage 14888 neurons 0.449\n",
      "used time : 28.619374999999764\n",
      "__________________________________\n",
      "{'0.25': [0.050107469102632994, 0.08127350886620097, 0.13722461042450296, 0.16650994089199356, 0.20237775389575496, 0.22649113379903277, 0.25947071466953253, 0.2894277270284793, 0.3109215475550779, 0.332684040838259, 0.35061794734013974, 0.3633799032778076, 0.3747313272434175, 0.3883664696399785, 0.3987775389575497, 0.4039494895217625, 0.41812197743148843, 0.4269881783987104, 0.4363245566899516, 0.442101020956475, 0.442101020956475, 0.442101020956475, 0.4421681891456206, 0.4421681891456206, 0.4421681891456206, 0.4421681891456206, 0.4421681891456206, 0.4421681891456206, 0.4421681891456206, 0.44230252552391186, 0.4423696937130575, 0.4423696937130575, 0.4423696937130575, 0.4423696937130575, 0.4423696937130575, 0.4423696937130575, 0.4423696937130575, 0.4423696937130575, 0.4423696937130575, 0.4423696937130575, 0.4423696937130575, 0.4423696937130575, 0.44250403009134875, 0.44250403009134875, 0.44257119828049435, 0.44257119828049435, 0.44257119828049435, 0.44257119828049435, 0.44257119828049435, 0.44257119828049435, 0.44257119828049435, 0.44283987103707684, 0.4429070392262225, 0.4429742074153681, 0.4429742074153681, 0.4429742074153681, 0.4429742074153681, 0.4429742074153681, 0.4429742074153681, 0.4429742074153681, 0.4431085437936593, 0.4431085437936593, 0.4431757119828049, 0.4431757119828049, 0.44351155292853306, 0.44357872111767865, 0.4436458893068243, 0.4436458893068243, 0.4436458893068243, 0.44384739387426114, 0.4439145620634068, 0.4439145620634068, 0.4439817302525524, 0.4441832348199892, 0.4441832348199892, 0.4442504030091349, 0.4442504030091349, 0.44431757119828047, 0.4444519075765717, 0.44451907576571736, 0.4447205803331542, 0.4449892530897367, 0.44579527135948416, 0.44606394411606665, 0.44680279419666846, 0.44707146695325095, 0.44713863514239655, 0.4472729715206878, 0.4472729715206878, 0.4475416442772703, 0.4482804943578721, 0.4485491671144546, 0.4485491671144546, 0.44901934443847397, 0.44901934443847397, 0.44908651262761956, 0.44908651262761956, 0.44915368081676516, 0.4492880171950564, 0.44935518538420205], '0.5': [0.050107469102632994, 0.08127350886620097, 0.13722461042450296, 0.16650994089199356, 0.20237775389575496, 0.22649113379903277, 0.25947071466953253, 0.2894277270284793, 0.3109215475550779, 0.332684040838259, 0.35061794734013974, 0.3633799032778076, 0.3747313272434175, 0.3883664696399785, 0.3987775389575497, 0.4039494895217625, 0.41812197743148843, 0.4269881783987104, 0.4363245566899516, 0.442101020956475, 0.442101020956475, 0.442101020956475, 0.4421681891456206, 0.4421681891456206, 0.4421681891456206, 0.4421681891456206, 0.4421681891456206, 0.4421681891456206, 0.4421681891456206, 0.44230252552391186, 0.4423696937130575, 0.4423696937130575, 0.4423696937130575, 0.4423696937130575, 0.4423696937130575, 0.4423696937130575, 0.4423696937130575, 0.4423696937130575, 0.4423696937130575, 0.4423696937130575, 0.4423696937130575, 0.4423696937130575, 0.44250403009134875, 0.44250403009134875, 0.44257119828049435, 0.44257119828049435, 0.44257119828049435, 0.44257119828049435, 0.44257119828049435, 0.44257119828049435, 0.44257119828049435, 0.44283987103707684, 0.4429070392262225, 0.4429742074153681, 0.4429742074153681, 0.4429742074153681, 0.4429742074153681, 0.4429742074153681, 0.4429742074153681, 0.4429742074153681, 0.4431085437936593, 0.4431085437936593, 0.4431757119828049, 0.4431757119828049, 0.44351155292853306, 0.44357872111767865, 0.4436458893068243, 0.4436458893068243, 0.4436458893068243, 0.44384739387426114, 0.4439145620634068, 0.4439145620634068, 0.4439817302525524, 0.4441832348199892, 0.4441832348199892, 0.4442504030091349, 0.4442504030091349, 0.44431757119828047, 0.4444519075765717, 0.44451907576571736, 0.4447205803331542, 0.4449892530897367, 0.44579527135948416, 0.44606394411606665, 0.44680279419666846, 0.44707146695325095, 0.44713863514239655, 0.4472729715206878, 0.4472729715206878, 0.4475416442772703, 0.4482804943578721, 0.4485491671144546, 0.4485491671144546, 0.44901934443847397, 0.44901934443847397, 0.44908651262761956, 0.44908651262761956, 0.44915368081676516, 0.4492880171950564, 0.44935518538420205], '1': [0.050107469102632994, 0.08127350886620097, 0.13722461042450296, 0.16650994089199356, 0.20237775389575496, 0.22649113379903277, 0.25947071466953253, 0.2894277270284793, 0.3109215475550779, 0.332684040838259, 0.35061794734013974, 0.3633799032778076, 0.3747313272434175, 0.3883664696399785, 0.3987775389575497, 0.4039494895217625, 0.41812197743148843, 0.4269881783987104, 0.4363245566899516, 0.442101020956475, 0.442101020956475, 0.442101020956475, 0.4421681891456206, 0.4421681891456206, 0.4421681891456206, 0.4421681891456206, 0.4421681891456206, 0.4421681891456206, 0.4421681891456206, 0.44230252552391186, 0.4423696937130575, 0.4423696937130575, 0.4423696937130575, 0.4423696937130575, 0.4423696937130575, 0.4423696937130575, 0.4423696937130575, 0.4423696937130575, 0.4423696937130575, 0.4423696937130575, 0.4423696937130575, 0.4423696937130575, 0.44250403009134875, 0.44250403009134875, 0.44257119828049435, 0.44257119828049435, 0.44257119828049435, 0.44257119828049435, 0.44257119828049435, 0.44257119828049435, 0.44257119828049435, 0.44283987103707684, 0.4429070392262225, 0.4429742074153681, 0.4429742074153681, 0.4429742074153681, 0.4429742074153681, 0.4429742074153681, 0.4429742074153681, 0.4429742074153681, 0.4431085437936593, 0.4431085437936593, 0.4431757119828049, 0.4431757119828049, 0.44351155292853306, 0.44357872111767865, 0.4436458893068243, 0.4436458893068243, 0.4436458893068243, 0.44384739387426114, 0.4439145620634068, 0.4439145620634068, 0.4439817302525524, 0.4441832348199892, 0.4441832348199892, 0.4442504030091349, 0.4442504030091349, 0.44431757119828047, 0.4444519075765717, 0.44451907576571736, 0.4447205803331542, 0.4449892530897367, 0.44579527135948416, 0.44606394411606665, 0.44680279419666846, 0.44707146695325095, 0.44713863514239655, 0.4472729715206878, 0.4472729715206878, 0.4475416442772703, 0.4482804943578721, 0.4485491671144546, 0.4485491671144546, 0.44901934443847397, 0.44901934443847397, 0.44908651262761956, 0.44908651262761956, 0.44915368081676516, 0.4492880171950564, 0.44935518538420205], '2': [0.050107469102632994, 0.08127350886620097, 0.13722461042450296, 0.16650994089199356, 0.20237775389575496, 0.22649113379903277, 0.25947071466953253, 0.2894277270284793, 0.3109215475550779, 0.332684040838259, 0.35061794734013974, 0.3633799032778076, 0.3747313272434175, 0.3883664696399785, 0.3987775389575497, 0.4039494895217625, 0.41812197743148843, 0.4269881783987104, 0.4363245566899516, 0.442101020956475, 0.442101020956475, 0.442101020956475, 0.4421681891456206, 0.4421681891456206, 0.4421681891456206, 0.4421681891456206, 0.4421681891456206, 0.4421681891456206, 0.4421681891456206, 0.44230252552391186, 0.4423696937130575, 0.4423696937130575, 0.4423696937130575, 0.4423696937130575, 0.4423696937130575, 0.4423696937130575, 0.4423696937130575, 0.4423696937130575, 0.4423696937130575, 0.4423696937130575, 0.4423696937130575, 0.4423696937130575, 0.44250403009134875, 0.44250403009134875, 0.44257119828049435, 0.44257119828049435, 0.44257119828049435, 0.44257119828049435, 0.44257119828049435, 0.44257119828049435, 0.44257119828049435, 0.44283987103707684, 0.4429070392262225, 0.4429742074153681, 0.4429742074153681, 0.4429742074153681, 0.4429742074153681, 0.4429742074153681, 0.4429742074153681, 0.4429742074153681, 0.4431085437936593, 0.4431085437936593, 0.4431757119828049, 0.4431757119828049, 0.44351155292853306, 0.44357872111767865, 0.4436458893068243, 0.4436458893068243, 0.4436458893068243, 0.44384739387426114, 0.4439145620634068, 0.4439145620634068, 0.4439817302525524, 0.4441832348199892, 0.4441832348199892, 0.4442504030091349, 0.4442504030091349, 0.44431757119828047, 0.4444519075765717, 0.44451907576571736, 0.4447205803331542, 0.4449892530897367, 0.44579527135948416, 0.44606394411606665, 0.44680279419666846, 0.44707146695325095, 0.44713863514239655, 0.4472729715206878, 0.4472729715206878, 0.4475416442772703, 0.4482804943578721, 0.4485491671144546, 0.4485491671144546, 0.44901934443847397, 0.44901934443847397, 0.44908651262761956, 0.44908651262761956, 0.44915368081676516, 0.4492880171950564, 0.44935518538420205], '4': [0.050107469102632994, 0.08127350886620097, 0.13722461042450296, 0.16650994089199356, 0.20237775389575496, 0.22649113379903277, 0.25947071466953253, 0.2894277270284793, 0.3109215475550779, 0.332684040838259, 0.35061794734013974, 0.3633799032778076, 0.3747313272434175, 0.3883664696399785, 0.3987775389575497, 0.4039494895217625, 0.41812197743148843, 0.4269881783987104, 0.4363245566899516, 0.442101020956475, 0.442101020956475, 0.442101020956475, 0.4421681891456206, 0.4421681891456206, 0.4421681891456206, 0.4421681891456206, 0.4421681891456206, 0.4421681891456206, 0.4421681891456206, 0.44230252552391186, 0.4423696937130575, 0.4423696937130575, 0.4423696937130575, 0.4423696937130575, 0.4423696937130575, 0.4423696937130575, 0.4423696937130575, 0.4423696937130575, 0.4423696937130575, 0.4423696937130575, 0.4423696937130575, 0.4423696937130575, 0.44250403009134875, 0.44250403009134875, 0.44257119828049435, 0.44257119828049435, 0.44257119828049435, 0.44257119828049435, 0.44257119828049435, 0.44257119828049435, 0.44257119828049435, 0.44283987103707684, 0.4429070392262225, 0.4429742074153681, 0.4429742074153681, 0.4429742074153681, 0.4429742074153681, 0.4429742074153681, 0.4429742074153681, 0.4429742074153681, 0.4431085437936593, 0.4431085437936593, 0.4431757119828049, 0.4431757119828049, 0.44351155292853306, 0.44357872111767865, 0.4436458893068243, 0.4436458893068243, 0.4436458893068243, 0.44384739387426114, 0.4439145620634068, 0.4439145620634068, 0.4439817302525524, 0.4441832348199892, 0.4441832348199892, 0.4442504030091349, 0.4442504030091349, 0.44431757119828047, 0.4444519075765717, 0.44451907576571736, 0.4447205803331542, 0.4449892530897367, 0.44579527135948416, 0.44606394411606665, 0.44680279419666846, 0.44707146695325095, 0.44713863514239655, 0.4472729715206878, 0.4472729715206878, 0.4475416442772703, 0.4482804943578721, 0.4485491671144546, 0.4485491671144546, 0.44901934443847397, 0.44901934443847397, 0.44908651262761956, 0.44908651262761956, 0.44915368081676516, 0.4492880171950564, 0.44935518538420205]}\n"
     ]
    }
   ],
   "source": [
    "img_dir = 'ImageNet/seeds_20/'\n",
    "img_paths = os.listdir(img_dir)\n",
    "img_num = len(img_paths)\n",
    "\n",
    "predict_weight = 0.5\n",
    "neuron_to_cover_weight = 0.5\n",
    "learning_step = 0.5\n",
    "\n",
    "cov_dict = {}\n",
    "\n",
    "# for perturb_level in perturb_levels:\n",
    "coverage = []\n",
    "# model_layer_dict1 = init_coverage_tables(model1)\n",
    "model_layer_times1 = init_coverage_times(model1)  # times of each neuron covered\n",
    "model_layer_times2 = init_coverage_times(model1)  # update when new image and adversarial images found\n",
    "model_layer_value1 = init_coverage_value(model1)\n",
    "\n",
    "for perturb_level in perturb_levels:\n",
    "    perturb_level_tmp = str(perturb_level)\n",
    "    perturb_level_tmp = perturb_level_tmp.replace(\".\", \"_\")\n",
    "    save_dir = 'ImageNet/generated_inputs/' + \"perturb_level_\" + perturb_level_tmp + '/'\n",
    "\n",
    "    \"\"\"if os.path.exists(save_dir+'perturb/'):\n",
    "        for i in os.listdir(save_dir+'perturb/'):\n",
    "            path_file = os.path.join(save_dir+'perturb/', i)\n",
    "            if os.path.isfile(path_file):\n",
    "                os.remove(path_file)\n",
    "    if os.path.exists(save_dir+'gen_img/'):\n",
    "        for i in os.listdir(save_dir+'gen_img/'):\n",
    "            path_file = os.path.join(save_dir+'gen_img/', i)\n",
    "            if os.path.isfile(path_file):\n",
    "                os.remove(path_file)\"\"\"\n",
    "    if os.path.exists(save_dir+'random_img/'):\n",
    "        for i in os.listdir(save_dir+'random_img/'):\n",
    "            path_file = os.path.join(save_dir+'random_img/', i)\n",
    "            if os.path.isfile(path_file):\n",
    "                os.remove(path_file)\n",
    "    if os.path.exists(save_dir+'random_perturb/'):\n",
    "        for i in os.listdir(save_dir+'random_perturb/'):\n",
    "            path_file = os.path.join(save_dir+'random_perturb/', i)\n",
    "            if os.path.isfile(path_file):\n",
    "                os.remove(path_file)\n",
    "\n",
    "    if not os.path.exists(save_dir):\n",
    "        os.makedirs(save_dir)\n",
    "    \"\"\"if not os.path.exists(save_dir+'perturb/'):\n",
    "        os.makedirs(save_dir+'perturb/')\n",
    "    if not os.path.exists(save_dir+'gen_img/'):\n",
    "        os.makedirs(save_dir+'gen_img/')\"\"\"\n",
    "    if not os.path.exists(save_dir+'random_img/'):\n",
    "        os.makedirs(save_dir+'random_img/')\n",
    "    if not os.path.exists(save_dir+'random_perturb/'):\n",
    "        os.makedirs(save_dir+'random_perturb/')\n",
    "\n",
    "    # start = time.clock()\n",
    "    total_time = 0\n",
    "    total_norm = 0\n",
    "    adversial_num = 0\n",
    "    total_perturb_adversial = 0\n",
    "\n",
    "    for i in range(img_num):\n",
    "        start_time = time.perf_counter()\n",
    "        img_list = []\n",
    "        img_path = os.path.join(img_dir,img_paths[i])\n",
    "        print(img_path)\n",
    "        tmp_img = preprocess_image(img_path)\n",
    "        orig_img = tmp_img.copy()\n",
    "        img_list.append(tmp_img)\n",
    "        update_coverage(tmp_img, model1, model_layer_times2, threshold)\n",
    "        while len(img_list) > 0:\n",
    "            gen_img = img_list[0]\n",
    "            img_list.remove(gen_img)\n",
    "\n",
    "            # first check if input already induces differences\n",
    "            pred1 = model1.predict(gen_img)\n",
    "            label1 = np.argmax(pred1[0])\n",
    "\n",
    "            label_top5 = np.argsort(pred1[0])[-5:]\n",
    "\n",
    "            update_coverage_value(gen_img, model1, model_layer_value1)\n",
    "            update_coverage(gen_img, model1, model_layer_times1, threshold)\n",
    "\n",
    "            orig_label = label1\n",
    "            orig_pred = pred1\n",
    "\n",
    "            if model1.name == 'resnet50':\n",
    "                loss_1 = K.mean(model1.get_layer('fc1000').output[..., orig_label])\n",
    "                loss_2 = K.mean(model1.get_layer('fc1000').output[..., label_top5[-2]])\n",
    "                loss_3 = K.mean(model1.get_layer('fc1000').output[..., label_top5[-3]])\n",
    "                loss_4 = K.mean(model1.get_layer('fc1000').output[..., label_top5[-4]])\n",
    "                loss_5 = K.mean(model1.get_layer('fc1000').output[..., label_top5[-5]])\n",
    "\n",
    "            else:\n",
    "                loss_1 = K.mean(model1.get_layer('predictions').output[..., orig_label])\n",
    "                loss_2 = K.mean(model1.get_layer('predictions').output[..., label_top5[-2]])\n",
    "                loss_3 = K.mean(model1.get_layer('predictions').output[..., label_top5[-3]])\n",
    "                loss_4 = K.mean(model1.get_layer('predictions').output[..., label_top5[-4]])\n",
    "                loss_5 = K.mean(model1.get_layer('predictions').output[..., label_top5[-5]])\n",
    "\n",
    "            layer_output = (predict_weight * (loss_2 + loss_3 + loss_4 + loss_5) - loss_1)\n",
    "\n",
    "            # neuron coverage loss\n",
    "            loss_neuron = neuron_selection(model1, model_layer_times1, model_layer_value1, neuron_select_strategy, neuron_to_cover_num, threshold)\n",
    "\n",
    "            # extreme value means the activation value for a neuron can be as high as possible ...\n",
    "            EXTREME_VALUE = False\n",
    "            if EXTREME_VALUE:\n",
    "                neuron_to_cover_weight = 2\n",
    "\n",
    "            layer_output += neuron_to_cover_weight * K.sum(loss_neuron)\n",
    "\n",
    "            # for adversarial image generation\n",
    "            final_loss = K.mean(layer_output)\n",
    "\n",
    "            # we compute the gradient of the input picture wrt this loss\n",
    "            grads = normalize(K.gradients(final_loss, input_tensor)[0])\n",
    "\n",
    "            grads_tensor_list = [loss_1, loss_2, loss_3, loss_4, loss_5]\n",
    "            grads_tensor_list.extend(loss_neuron)\n",
    "            grads_tensor_list.append(grads)\n",
    "            # this function returns the loss and grads given the input picture\n",
    "\n",
    "            iterate = K.function([input_tensor], grads_tensor_list)\n",
    "\n",
    "            # we run gradient ascent for some steps\n",
    "            for iters in range(iteration_times):\n",
    "                loss_neuron_list = iterate([gen_img])\n",
    "                perturb = loss_neuron_list[-1] * learning_step  * perturb_level\n",
    "                \n",
    "                \n",
    "                mean = np.mean(perturb)\n",
    "                std = np.std(perturb)\n",
    "                random_perturb = np.random.normal(mean, std, perturb.shape)\n",
    "                # print(noise)\n",
    "                # random_img = gen_img + random_perturb\n",
    "\n",
    "                gen_img += random_perturb\n",
    "\n",
    "\n",
    "                # previous accumulated neuron coverage\n",
    "                previous_coverage = neuron_covered(model_layer_times1)[2]\n",
    "\n",
    "                pred1 = model1.predict(gen_img)\n",
    "                label1 = np.argmax(pred1[0])\n",
    "\n",
    "                update_coverage(gen_img, model1, model_layer_times1, threshold) # for seed selection\n",
    "                current_coverage = neuron_covered(model_layer_times1)[2]\n",
    "                diff_img = gen_img - orig_img\n",
    "                L2_norm = np.linalg.norm(diff_img)\n",
    "                orig_L2_norm = np.linalg.norm(orig_img)\n",
    "                perturb_adversial = L2_norm / orig_L2_norm\n",
    "\n",
    "                if current_coverage - previous_coverage > 0.01 / (i + 1) and perturb_adversial < 0.02:\n",
    "                    img_list.append(gen_img)\n",
    "                    # print('coverage diff = ', current_coverage - previous_coverage, 'perturb_adversial = ', perturb_adversial)\n",
    "\n",
    "                #if label1 != orig_label:\n",
    "                update_coverage(gen_img, model1, model_layer_times2, threshold)\n",
    "                total_norm += L2_norm\n",
    "                total_perturb_adversial += perturb_adversial\n",
    "\n",
    "                # print('L2 norm : ' + str(L2_norm))\n",
    "                # print('ratio perturb = ', perturb_adversial)\n",
    "\n",
    "                # get original image id\n",
    "                _img_path = img_paths[i].split('_')\n",
    "                _img_path = _img_path[-1]   # 00000xxx.JPEG\n",
    "                _img_path = _img_path.split('.')\n",
    "                _img_id = _img_path[0]    # 000000xxx\n",
    "\n",
    "\n",
    "                \"\"\"perturb_tmp = perturb.copy()\n",
    "                perturb_deprocessed = deprocess_image(perturb_tmp)\n",
    "                save_img = save_dir + 'perturb/' + _img_id + '_' +  decode_label(pred1) + '_' + decode_label(orig_pred) + '_' + str(get_signature()) + '.png'\n",
    "                imageio.imwrite(save_img, perturb_deprocessed)\n",
    "\n",
    "                gen_img_tmp = gen_img.copy()\n",
    "                gen_img_deprocessed = deprocess_image(gen_img_tmp)\n",
    "                save_img = save_dir + 'gen_img/' + _img_id + '_' + decode_label(pred1) + '_' + decode_label(orig_pred) + '_' + str(get_signature()) + '.png'\n",
    "                # imsave(save_img, gen_img_deprocessed)\n",
    "                imageio.imwrite(save_img, gen_img_deprocessed)\n",
    "                \"\"\"\n",
    "                #for perturb_level in perturb_levels:\n",
    "                # perturb_level_tmp = str(perturb_level)\n",
    "                #perturb_level_tmp = perturb_level_tmp.replace(\".\", \"_\")\n",
    "                #save_dir = 'ImageNet/generated_inputs/' + \"perturb_level_\" + perturb_level_tmp + '/'\n",
    "\n",
    "                random_perturb_tmp = random_perturb.copy()\n",
    "                random_perturb_deprocessed = deprocess_image(random_perturb_tmp)\n",
    "                save_img = save_dir + 'random_perturb/' + _img_id + '_' +  decode_label(pred1) + '_' + decode_label(orig_pred) + '_' + str(get_signature()) + '.png'\n",
    "                imageio.imwrite(save_img, random_perturb_deprocessed)\n",
    "\n",
    "                random_img_tmp = gen_img.copy()\n",
    "                random_img_deprocessed = deprocess_image(random_img_tmp)\n",
    "                save_img = save_dir + 'random_img/' + _img_id + '_' + decode_label(pred1) + '_' + decode_label(orig_pred) + '_' + str(get_signature()) + '.png'\n",
    "                # imsave(save_img, gen_img_deprocessed)\n",
    "                imageio.imwrite(save_img, random_img_deprocessed)\n",
    "\n",
    "                adversial_num += 1\n",
    "\n",
    "        end_time = time.perf_counter()\n",
    "        print('covered neurons percentage %d neurons %.3f'\n",
    "              % (len(model_layer_times2), neuron_covered(model_layer_times2)[2]))\n",
    "        duration = end_time - start_time\n",
    "        print('used time : ' + str(duration))\n",
    "        total_time += duration\n",
    "        print('__________________________________')\n",
    "        coverage.append(neuron_covered(model_layer_times2)[2])\n",
    "    cov_dict[str(perturb_level)] = coverage  \n",
    "\n",
    "    #print('final covered neurons percentage %d neurons %.3f'% (len(model_layer_times2), neuron_covered(model_layer_times2)[2]))\n",
    "    #print('total_time = ' + str(total_time))\n",
    "    #print('average_norm = ' + str(total_norm / adversial_num))\n",
    "    #print('adversial num = ' + str(adversial_num))\n",
    "    #print('average perb adversial = ' + str(total_perturb_adversial / adversial_num))\n",
    "    #print('__________________________________')\n",
    "    print(cov_dict)"
   ]
  },
  {
   "cell_type": "code",
   "execution_count": 74,
   "metadata": {},
   "outputs": [
    {
     "name": "stdout",
     "output_type": "stream",
     "text": [
      "{'0.25': [0.050107469102632994, 0.08127350886620097, 0.13722461042450296, 0.16650994089199356, 0.20237775389575496, 0.22649113379903277, 0.25947071466953253, 0.2894277270284793, 0.3109215475550779, 0.332684040838259, 0.35061794734013974, 0.3633799032778076, 0.3747313272434175, 0.3883664696399785, 0.3987775389575497, 0.4039494895217625, 0.41812197743148843, 0.4269881783987104, 0.4363245566899516, 0.442101020956475, 0.442101020956475, 0.442101020956475, 0.4421681891456206, 0.4421681891456206, 0.4421681891456206, 0.4421681891456206, 0.4421681891456206, 0.4421681891456206, 0.4421681891456206, 0.44230252552391186, 0.4423696937130575, 0.4423696937130575, 0.4423696937130575, 0.4423696937130575, 0.4423696937130575, 0.4423696937130575, 0.4423696937130575, 0.4423696937130575, 0.4423696937130575, 0.4423696937130575, 0.4423696937130575, 0.4423696937130575, 0.44250403009134875, 0.44250403009134875, 0.44257119828049435, 0.44257119828049435, 0.44257119828049435, 0.44257119828049435, 0.44257119828049435, 0.44257119828049435, 0.44257119828049435, 0.44283987103707684, 0.4429070392262225, 0.4429742074153681, 0.4429742074153681, 0.4429742074153681, 0.4429742074153681, 0.4429742074153681, 0.4429742074153681, 0.4429742074153681, 0.4431085437936593, 0.4431085437936593, 0.4431757119828049, 0.4431757119828049, 0.44351155292853306, 0.44357872111767865, 0.4436458893068243, 0.4436458893068243, 0.4436458893068243, 0.44384739387426114, 0.4439145620634068, 0.4439145620634068, 0.4439817302525524, 0.4441832348199892, 0.4441832348199892, 0.4442504030091349, 0.4442504030091349, 0.44431757119828047, 0.4444519075765717, 0.44451907576571736, 0.4447205803331542, 0.4449892530897367, 0.44579527135948416, 0.44606394411606665, 0.44680279419666846, 0.44707146695325095, 0.44713863514239655, 0.4472729715206878, 0.4472729715206878, 0.4475416442772703, 0.4482804943578721, 0.4485491671144546, 0.4485491671144546, 0.44901934443847397, 0.44901934443847397, 0.44908651262761956, 0.44908651262761956, 0.44915368081676516, 0.4492880171950564, 0.44935518538420205], '0.5': [0.050107469102632994, 0.08127350886620097, 0.13722461042450296, 0.16650994089199356, 0.20237775389575496, 0.22649113379903277, 0.25947071466953253, 0.2894277270284793, 0.3109215475550779, 0.332684040838259, 0.35061794734013974, 0.3633799032778076, 0.3747313272434175, 0.3883664696399785, 0.3987775389575497, 0.4039494895217625, 0.41812197743148843, 0.4269881783987104, 0.4363245566899516, 0.442101020956475, 0.442101020956475, 0.442101020956475, 0.4421681891456206, 0.4421681891456206, 0.4421681891456206, 0.4421681891456206, 0.4421681891456206, 0.4421681891456206, 0.4421681891456206, 0.44230252552391186, 0.4423696937130575, 0.4423696937130575, 0.4423696937130575, 0.4423696937130575, 0.4423696937130575, 0.4423696937130575, 0.4423696937130575, 0.4423696937130575, 0.4423696937130575, 0.4423696937130575, 0.4423696937130575, 0.4423696937130575, 0.44250403009134875, 0.44250403009134875, 0.44257119828049435, 0.44257119828049435, 0.44257119828049435, 0.44257119828049435, 0.44257119828049435, 0.44257119828049435, 0.44257119828049435, 0.44283987103707684, 0.4429070392262225, 0.4429742074153681, 0.4429742074153681, 0.4429742074153681, 0.4429742074153681, 0.4429742074153681, 0.4429742074153681, 0.4429742074153681, 0.4431085437936593, 0.4431085437936593, 0.4431757119828049, 0.4431757119828049, 0.44351155292853306, 0.44357872111767865, 0.4436458893068243, 0.4436458893068243, 0.4436458893068243, 0.44384739387426114, 0.4439145620634068, 0.4439145620634068, 0.4439817302525524, 0.4441832348199892, 0.4441832348199892, 0.4442504030091349, 0.4442504030091349, 0.44431757119828047, 0.4444519075765717, 0.44451907576571736, 0.4447205803331542, 0.4449892530897367, 0.44579527135948416, 0.44606394411606665, 0.44680279419666846, 0.44707146695325095, 0.44713863514239655, 0.4472729715206878, 0.4472729715206878, 0.4475416442772703, 0.4482804943578721, 0.4485491671144546, 0.4485491671144546, 0.44901934443847397, 0.44901934443847397, 0.44908651262761956, 0.44908651262761956, 0.44915368081676516, 0.4492880171950564, 0.44935518538420205], '1': [0.050107469102632994, 0.08127350886620097, 0.13722461042450296, 0.16650994089199356, 0.20237775389575496, 0.22649113379903277, 0.25947071466953253, 0.2894277270284793, 0.3109215475550779, 0.332684040838259, 0.35061794734013974, 0.3633799032778076, 0.3747313272434175, 0.3883664696399785, 0.3987775389575497, 0.4039494895217625, 0.41812197743148843, 0.4269881783987104, 0.4363245566899516, 0.442101020956475, 0.442101020956475, 0.442101020956475, 0.4421681891456206, 0.4421681891456206, 0.4421681891456206, 0.4421681891456206, 0.4421681891456206, 0.4421681891456206, 0.4421681891456206, 0.44230252552391186, 0.4423696937130575, 0.4423696937130575, 0.4423696937130575, 0.4423696937130575, 0.4423696937130575, 0.4423696937130575, 0.4423696937130575, 0.4423696937130575, 0.4423696937130575, 0.4423696937130575, 0.4423696937130575, 0.4423696937130575, 0.44250403009134875, 0.44250403009134875, 0.44257119828049435, 0.44257119828049435, 0.44257119828049435, 0.44257119828049435, 0.44257119828049435, 0.44257119828049435, 0.44257119828049435, 0.44283987103707684, 0.4429070392262225, 0.4429742074153681, 0.4429742074153681, 0.4429742074153681, 0.4429742074153681, 0.4429742074153681, 0.4429742074153681, 0.4429742074153681, 0.4431085437936593, 0.4431085437936593, 0.4431757119828049, 0.4431757119828049, 0.44351155292853306, 0.44357872111767865, 0.4436458893068243, 0.4436458893068243, 0.4436458893068243, 0.44384739387426114, 0.4439145620634068, 0.4439145620634068, 0.4439817302525524, 0.4441832348199892, 0.4441832348199892, 0.4442504030091349, 0.4442504030091349, 0.44431757119828047, 0.4444519075765717, 0.44451907576571736, 0.4447205803331542, 0.4449892530897367, 0.44579527135948416, 0.44606394411606665, 0.44680279419666846, 0.44707146695325095, 0.44713863514239655, 0.4472729715206878, 0.4472729715206878, 0.4475416442772703, 0.4482804943578721, 0.4485491671144546, 0.4485491671144546, 0.44901934443847397, 0.44901934443847397, 0.44908651262761956, 0.44908651262761956, 0.44915368081676516, 0.4492880171950564, 0.44935518538420205], '2': [0.050107469102632994, 0.08127350886620097, 0.13722461042450296, 0.16650994089199356, 0.20237775389575496, 0.22649113379903277, 0.25947071466953253, 0.2894277270284793, 0.3109215475550779, 0.332684040838259, 0.35061794734013974, 0.3633799032778076, 0.3747313272434175, 0.3883664696399785, 0.3987775389575497, 0.4039494895217625, 0.41812197743148843, 0.4269881783987104, 0.4363245566899516, 0.442101020956475, 0.442101020956475, 0.442101020956475, 0.4421681891456206, 0.4421681891456206, 0.4421681891456206, 0.4421681891456206, 0.4421681891456206, 0.4421681891456206, 0.4421681891456206, 0.44230252552391186, 0.4423696937130575, 0.4423696937130575, 0.4423696937130575, 0.4423696937130575, 0.4423696937130575, 0.4423696937130575, 0.4423696937130575, 0.4423696937130575, 0.4423696937130575, 0.4423696937130575, 0.4423696937130575, 0.4423696937130575, 0.44250403009134875, 0.44250403009134875, 0.44257119828049435, 0.44257119828049435, 0.44257119828049435, 0.44257119828049435, 0.44257119828049435, 0.44257119828049435, 0.44257119828049435, 0.44283987103707684, 0.4429070392262225, 0.4429742074153681, 0.4429742074153681, 0.4429742074153681, 0.4429742074153681, 0.4429742074153681, 0.4429742074153681, 0.4429742074153681, 0.4431085437936593, 0.4431085437936593, 0.4431757119828049, 0.4431757119828049, 0.44351155292853306, 0.44357872111767865, 0.4436458893068243, 0.4436458893068243, 0.4436458893068243, 0.44384739387426114, 0.4439145620634068, 0.4439145620634068, 0.4439817302525524, 0.4441832348199892, 0.4441832348199892, 0.4442504030091349, 0.4442504030091349, 0.44431757119828047, 0.4444519075765717, 0.44451907576571736, 0.4447205803331542, 0.4449892530897367, 0.44579527135948416, 0.44606394411606665, 0.44680279419666846, 0.44707146695325095, 0.44713863514239655, 0.4472729715206878, 0.4472729715206878, 0.4475416442772703, 0.4482804943578721, 0.4485491671144546, 0.4485491671144546, 0.44901934443847397, 0.44901934443847397, 0.44908651262761956, 0.44908651262761956, 0.44915368081676516, 0.4492880171950564, 0.44935518538420205], '4': [0.050107469102632994, 0.08127350886620097, 0.13722461042450296, 0.16650994089199356, 0.20237775389575496, 0.22649113379903277, 0.25947071466953253, 0.2894277270284793, 0.3109215475550779, 0.332684040838259, 0.35061794734013974, 0.3633799032778076, 0.3747313272434175, 0.3883664696399785, 0.3987775389575497, 0.4039494895217625, 0.41812197743148843, 0.4269881783987104, 0.4363245566899516, 0.442101020956475, 0.442101020956475, 0.442101020956475, 0.4421681891456206, 0.4421681891456206, 0.4421681891456206, 0.4421681891456206, 0.4421681891456206, 0.4421681891456206, 0.4421681891456206, 0.44230252552391186, 0.4423696937130575, 0.4423696937130575, 0.4423696937130575, 0.4423696937130575, 0.4423696937130575, 0.4423696937130575, 0.4423696937130575, 0.4423696937130575, 0.4423696937130575, 0.4423696937130575, 0.4423696937130575, 0.4423696937130575, 0.44250403009134875, 0.44250403009134875, 0.44257119828049435, 0.44257119828049435, 0.44257119828049435, 0.44257119828049435, 0.44257119828049435, 0.44257119828049435, 0.44257119828049435, 0.44283987103707684, 0.4429070392262225, 0.4429742074153681, 0.4429742074153681, 0.4429742074153681, 0.4429742074153681, 0.4429742074153681, 0.4429742074153681, 0.4429742074153681, 0.4431085437936593, 0.4431085437936593, 0.4431757119828049, 0.4431757119828049, 0.44351155292853306, 0.44357872111767865, 0.4436458893068243, 0.4436458893068243, 0.4436458893068243, 0.44384739387426114, 0.4439145620634068, 0.4439145620634068, 0.4439817302525524, 0.4441832348199892, 0.4441832348199892, 0.4442504030091349, 0.4442504030091349, 0.44431757119828047, 0.4444519075765717, 0.44451907576571736, 0.4447205803331542, 0.4449892530897367, 0.44579527135948416, 0.44606394411606665, 0.44680279419666846, 0.44707146695325095, 0.44713863514239655, 0.4472729715206878, 0.4472729715206878, 0.4475416442772703, 0.4482804943578721, 0.4485491671144546, 0.4485491671144546, 0.44901934443847397, 0.44901934443847397, 0.44908651262761956, 0.44908651262761956, 0.44915368081676516, 0.4492880171950564, 0.44935518538420205]}\n"
     ]
    }
   ],
   "source": [
    "print(cov_dict)"
   ]
  },
  {
   "cell_type": "code",
   "execution_count": 75,
   "metadata": {},
   "outputs": [
    {
     "data": {
      "text/plain": [
       "<function matplotlib.pyplot.show(close=None, block=None)>"
      ]
     },
     "execution_count": 75,
     "metadata": {},
     "output_type": "execute_result"
    },
    {
     "name": "stderr",
     "output_type": "stream",
     "text": [
      "findfont: Font family ['serif'] not found. Falling back to DejaVu Sans.\n",
      "findfont: Generic family 'serif' not found because none of the following families were found: Times\n",
      "findfont: Font family ['serif'] not found. Falling back to DejaVu Sans.\n",
      "findfont: Generic family 'serif' not found because none of the following families were found: Times\n"
     ]
    },
    {
     "data": {
      "image/png": "[encoded data removed]",
      "text/plain": [
       "<Figure size 1980x1500 with 1 Axes>"
      ]
     },
     "metadata": {
      "needs_background": "light"
     },
     "output_type": "display_data"
    }
   ],
   "source": [
    "plt.title(\"Neuron Coverage (Random Perturbation)\")\n",
    "plt.plot(coverage, label=\"Neuron Coverage\")\n",
    "plt.legend(loc='upper left')\n",
    "plt.ylabel(\"Neuron Coverage in %\")\n",
    "plt.xlabel(\"Step\")\n",
    "plt.show"
   ]
  },
  {
   "cell_type": "code",
   "execution_count": 76,
   "metadata": {},
   "outputs": [],
   "source": [
    "import json\n",
    "with open('dlfuzz_random.json', 'w') as fp:\n",
    "    json.dump(cov_dict, fp)"
   ]
  },
  {
   "cell_type": "code",
   "execution_count": null,
   "metadata": {},
   "outputs": [],
   "source": []
  }
 ],
 "metadata": {
  "colab": {
   "collapsed_sections": [],
   "name": "DLFuzz.ipynb",
   "provenance": []
  },
  "interpreter": {
   "hash": "8f1f844e6ef41e6fbe9fde4371280fb1a6eef9f5f890ce22d440d6fa8cc152e2"
  },
  "kernelspec": {
   "display_name": "dlfuzz_env",
   "language": "python",
   "name": "dlfuzz_env"
  },
  "language_info": {
   "codemirror_mode": {
    "name": "ipython",
    "version": 3
   },
   "file_extension": ".py",
   "mimetype": "text/x-python",
   "name": "python",
   "nbconvert_exporter": "python",
   "pygments_lexer": "ipython3",
   "version": "3.9.12"
  }
 },
 "nbformat": 4,
 "nbformat_minor": 1
}
