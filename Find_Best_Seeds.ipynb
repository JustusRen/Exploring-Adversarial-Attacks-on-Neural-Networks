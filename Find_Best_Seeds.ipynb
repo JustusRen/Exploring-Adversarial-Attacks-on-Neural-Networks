{
 "cells": [
  {
   "cell_type": "code",
   "execution_count": null,
   "id": "020a1f55",
   "metadata": {},
   "outputs": [],
   "source": [
    "import warnings\n",
    "warnings.filterwarnings('ignore')\n",
    "from os import walk\n",
    "from IPython.display import Image, display\n",
    "import numpy as np\n",
    "import tensorflow as tf\n",
    "from tensorflow import keras\n",
    "import pandas as pd\n",
    "import os"
   ]
  },
  {
   "cell_type": "code",
   "execution_count": null,
   "id": "f556f061",
   "metadata": {},
   "outputs": [],
   "source": [
    "def get_layer_name(model):\n",
    "\n",
    "    # this will return all the conv_layers name in a list\n",
    "    layers_name = []\n",
    "    # <class: 'Conv2D'>\n",
    "    type_Conv2D = type(keras.layers.Conv2D(1, kernel_size=(1,1)))\n",
    "\n",
    "    for idx in range(len(model.layers)):\n",
    "        if(isinstance(model.get_layer(index=idx), type_Conv2D)):\n",
    "            layers_name.append(model.get_layer(index=idx).name)\n",
    "\n",
    "    return layers_name"
   ]
  },
  {
   "cell_type": "code",
   "execution_count": null,
   "id": "dabae1ce",
   "metadata": {},
   "outputs": [],
   "source": [
    "def get_img_array(img_path, size):\n",
    "    # `img` is a PIL image of size 299x299\n",
    "    img = keras.preprocessing.image.load_img(img_path, target_size=size)\n",
    "    # `array` is a float32 Numpy array of shape (299, 299, 3)\n",
    "    array = keras.preprocessing.image.img_to_array(img)\n",
    "    # We add a dimension to transform our array into a \"batch\"\n",
    "    # of size (1, 299, 299, 3)\n",
    "    array = np.expand_dims(array, axis=0)\n",
    "    return array\n"
   ]
  },
  {
   "cell_type": "code",
   "execution_count": null,
   "id": "92acf7d9",
   "metadata": {},
   "outputs": [],
   "source": [
    "model_builder = keras.applications.vgg16.VGG16(weights=\"imagenet\")\n",
    "img_size = (224, 224)\n",
    "preprocess_input = keras.applications.vgg16.preprocess_input\n",
    "decode_predictions = keras.applications.vgg16.decode_predictions\n",
    "\n",
    "conv_layers_name = get_layer_name(model_builder)"
   ]
  },
  {
   "cell_type": "code",
   "execution_count": null,
   "id": "2019c9ca",
   "metadata": {},
   "outputs": [],
   "source": [
    "\"\"\"\n",
    "path = 'ImageNet_test_data/'\n",
    "\n",
    "_, _, files = next(walk(path))\n",
    "file_count = len(files)\n",
    "print(file_count)\n",
    "\n",
    "filenames = next(walk(path), (None, None, []))[2]  # [] if no file\n",
    "predictions = []\"\"\""
   ]
  },
  {
   "cell_type": "code",
   "execution_count": null,
   "id": "07d80888",
   "metadata": {},
   "outputs": [],
   "source": [
    "\"\"\"for i in range(3):\n",
    "    for file in filenames: \n",
    "        # Prepare image\n",
    "        img_array = preprocess_input(get_img_array(path + file, size=img_size))\n",
    "       \n",
    "        # Make model\n",
    "        model = model_builder\n",
    "        \n",
    "        # Remove last layer's softmax\n",
    "        model.layers[-1].activation = None\n",
    "\n",
    "        # Print what the top predicted class is\n",
    "        prediction = model.predict(img_array)\n",
    "        row = {\"img\" : file, \n",
    "               \"prediction\" : decode_predictions(prediction)[0][0][1]}\n",
    "        \n",
    "        predictions.append(row)\"\"\""
   ]
  },
  {
   "cell_type": "code",
   "execution_count": null,
   "id": "459b9424",
   "metadata": {},
   "outputs": [],
   "source": [
    "\"\"\"df_predictions = pd.DataFrame(predictions)   \n",
    "df_predictions = df_predictions.groupby(df_predictions.columns.tolist(),as_index=False).size()\n",
    "print(df_predictions.to_string())\"\"\""
   ]
  },
  {
   "cell_type": "code",
   "execution_count": null,
   "id": "f1be8f5c",
   "metadata": {},
   "outputs": [],
   "source": [
    "# path = 'ImageNet_complete/ILSVRC/Data/CLS-LOC/test/'\n",
    "# path = 'ImageNet_test_data/'\n",
    "path = 'ImageNet/seeds_20/'\n",
    "\n",
    "_, _, files = next(walk(path))\n",
    "file_count = len(files)\n",
    "print(file_count)\n",
    "\n",
    "filenames = next(walk(path), (None, None, []))[2]  # [] if no file\n",
    "predictions = []"
   ]
  },
  {
   "cell_type": "code",
   "execution_count": null,
   "id": "edbcd0bc",
   "metadata": {},
   "outputs": [],
   "source": [
    "for file in filenames: \n",
    "    # Prepare image\n",
    "    img_array = preprocess_input(get_img_array(path + file, size=img_size))\n",
    "\n",
    "    # Make model\n",
    "    model = model_builder\n",
    "\n",
    "    # Remove last layer's softmax\n",
    "    model.layers[-1].activation = None\n",
    "\n",
    "    # Print what the top predicted class is\n",
    "    prediction = model.predict(img_array)\n",
    "    pred_str = decode_predictions(prediction, top=1)[0][0][1]\n",
    "    \"\"\"pred_str = pred_str.replace(\"-\", \"_\")\n",
    "\n",
    "    os.rename(path + file, path + pred_str + '.JPEG')\"\"\""
   ]
  },
  {
   "cell_type": "code",
   "execution_count": null,
   "id": "ca259b10",
   "metadata": {},
   "outputs": [],
   "source": [
    "filenames = next(walk(path), (None, None, []))[2]  # [] if no file"
   ]
  },
  {
   "cell_type": "code",
   "execution_count": null,
   "id": "88e3958b",
   "metadata": {},
   "outputs": [],
   "source": [
    "for i in range(3):\n",
    "    for file in filenames: \n",
    "        # Prepare image\n",
    "        img_array = preprocess_input(get_img_array(path + file, size=img_size))\n",
    "       \n",
    "        # Make model\n",
    "        model = model_builder\n",
    "        \n",
    "        # Remove last layer's softmax\n",
    "        model.layers[-1].activation = None\n",
    "\n",
    "        # Print what the top predicted class is\n",
    "        prediction = model.predict(img_array)\n",
    "                \n",
    "        row = {\"img\" : file, \n",
    "               \"prediction\" : decode_predictions(prediction, top=1)[0][0][1]}\n",
    "        predictions.append(row)"
   ]
  },
  {
   "cell_type": "code",
   "execution_count": null,
   "id": "b40b63ad",
   "metadata": {},
   "outputs": [],
   "source": [
    "df_predictions = pd.DataFrame(predictions)   \n",
    "df_predictions = df_predictions.groupby(df_predictions.columns.tolist(),as_index=False).size()\n",
    "print(df_predictions.to_string())"
   ]
  }
 ],
 "metadata": {
  "kernelspec": {
   "display_name": "dlfuzz_env",
   "language": "python",
   "name": "dlfuzz_env"
  },
  "language_info": {
   "codemirror_mode": {
    "name": "ipython",
    "version": 3
   },
   "file_extension": ".py",
   "mimetype": "text/x-python",
   "name": "python",
   "nbconvert_exporter": "python",
   "pygments_lexer": "ipython3",
   "version": "3.9.12"
  }
 },
 "nbformat": 4,
 "nbformat_minor": 5
}
